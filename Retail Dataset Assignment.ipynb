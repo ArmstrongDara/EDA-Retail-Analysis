{
 "cells": [
  {
   "cell_type": "code",
   "execution_count": 1,
   "id": "b2522f33-4b27-479a-a2c7-f9cfadeacb44",
   "metadata": {},
   "outputs": [],
   "source": [
    "import numpy as np\n",
    "import pandas as pd\n",
    "import matplotlib.pyplot as plt\n",
    "import seaborn as sns\n"
   ]
  },
  {
   "cell_type": "code",
   "execution_count": 2,
   "id": "2e297b45-86a3-4e9e-85f1-2b72107bfd8c",
   "metadata": {},
   "outputs": [
    {
     "data": {
      "text/html": [
       "<div>\n",
       "<style scoped>\n",
       "    .dataframe tbody tr th:only-of-type {\n",
       "        vertical-align: middle;\n",
       "    }\n",
       "\n",
       "    .dataframe tbody tr th {\n",
       "        vertical-align: top;\n",
       "    }\n",
       "\n",
       "    .dataframe thead th {\n",
       "        text-align: right;\n",
       "    }\n",
       "</style>\n",
       "<table border=\"1\" class=\"dataframe\">\n",
       "  <thead>\n",
       "    <tr style=\"text-align: right;\">\n",
       "      <th></th>\n",
       "      <th>OrderNumber</th>\n",
       "      <th>ProductName</th>\n",
       "      <th>Color</th>\n",
       "      <th>Category</th>\n",
       "      <th>Subcategory</th>\n",
       "      <th>ListPrice</th>\n",
       "      <th>Orderdate</th>\n",
       "      <th>Duedate</th>\n",
       "      <th>Shipdate</th>\n",
       "      <th>PromotionName</th>\n",
       "      <th>SalesRegion</th>\n",
       "      <th>OrderQuantity</th>\n",
       "      <th>UnitPrice</th>\n",
       "      <th>SalesAmount</th>\n",
       "      <th>DiscountAmount</th>\n",
       "      <th>TaxAmount</th>\n",
       "      <th>Freight</th>\n",
       "    </tr>\n",
       "  </thead>\n",
       "  <tbody>\n",
       "    <tr>\n",
       "      <th>0</th>\n",
       "      <td>SO43843</td>\n",
       "      <td>Mountain-100 Silver, 48</td>\n",
       "      <td>Silver</td>\n",
       "      <td>Bikes</td>\n",
       "      <td>Mountain Bikes</td>\n",
       "      <td>3399.9900</td>\n",
       "      <td>1/29/2011</td>\n",
       "      <td>2/10/2011</td>\n",
       "      <td>2/5/2011</td>\n",
       "      <td>No Discount</td>\n",
       "      <td>Central</td>\n",
       "      <td>2</td>\n",
       "      <td>2039.9940</td>\n",
       "      <td>4079.9880</td>\n",
       "      <td>0.0</td>\n",
       "      <td>326.3990</td>\n",
       "      <td>101.9997</td>\n",
       "    </tr>\n",
       "    <tr>\n",
       "      <th>1</th>\n",
       "      <td>SO43843</td>\n",
       "      <td>Mountain-100 Black, 48</td>\n",
       "      <td>Black</td>\n",
       "      <td>Bikes</td>\n",
       "      <td>Mountain Bikes</td>\n",
       "      <td>3374.9900</td>\n",
       "      <td>1/29/2011</td>\n",
       "      <td>2/10/2011</td>\n",
       "      <td>2/5/2011</td>\n",
       "      <td>No Discount</td>\n",
       "      <td>Central</td>\n",
       "      <td>2</td>\n",
       "      <td>2024.9940</td>\n",
       "      <td>4049.9880</td>\n",
       "      <td>0.0</td>\n",
       "      <td>323.9990</td>\n",
       "      <td>101.2497</td>\n",
       "    </tr>\n",
       "    <tr>\n",
       "      <th>2</th>\n",
       "      <td>SO43843</td>\n",
       "      <td>HL Mountain Frame - Silver, 46</td>\n",
       "      <td>Silver</td>\n",
       "      <td>Components</td>\n",
       "      <td>Mountain Frames</td>\n",
       "      <td>1204.3248</td>\n",
       "      <td>1/29/2011</td>\n",
       "      <td>2/10/2011</td>\n",
       "      <td>2/5/2011</td>\n",
       "      <td>No Discount</td>\n",
       "      <td>Central</td>\n",
       "      <td>2</td>\n",
       "      <td>722.5949</td>\n",
       "      <td>1445.1898</td>\n",
       "      <td>0.0</td>\n",
       "      <td>115.6152</td>\n",
       "      <td>36.1297</td>\n",
       "    </tr>\n",
       "    <tr>\n",
       "      <th>3</th>\n",
       "      <td>SO43843</td>\n",
       "      <td>Mountain-100 Black, 44</td>\n",
       "      <td>Black</td>\n",
       "      <td>Bikes</td>\n",
       "      <td>Mountain Bikes</td>\n",
       "      <td>NaN</td>\n",
       "      <td>1/29/2011</td>\n",
       "      <td>2/10/2011</td>\n",
       "      <td>2/5/2011</td>\n",
       "      <td>No Discount</td>\n",
       "      <td>Central</td>\n",
       "      <td>5</td>\n",
       "      <td>2024.9940</td>\n",
       "      <td>10124.9700</td>\n",
       "      <td>0.0</td>\n",
       "      <td>809.9976</td>\n",
       "      <td>253.1243</td>\n",
       "    </tr>\n",
       "    <tr>\n",
       "      <th>4</th>\n",
       "      <td>SO43843</td>\n",
       "      <td>HL Mountain Frame - Silver, 38</td>\n",
       "      <td>Silver</td>\n",
       "      <td>Components</td>\n",
       "      <td>Mountain Frames</td>\n",
       "      <td>1204.3248</td>\n",
       "      <td>1/29/2011</td>\n",
       "      <td>2/10/2011</td>\n",
       "      <td>2/5/2011</td>\n",
       "      <td>No Discount</td>\n",
       "      <td>Central</td>\n",
       "      <td>2</td>\n",
       "      <td>722.5949</td>\n",
       "      <td>1445.1898</td>\n",
       "      <td>0.0</td>\n",
       "      <td>115.6152</td>\n",
       "      <td>36.1297</td>\n",
       "    </tr>\n",
       "    <tr>\n",
       "      <th>...</th>\n",
       "      <td>...</td>\n",
       "      <td>...</td>\n",
       "      <td>...</td>\n",
       "      <td>...</td>\n",
       "      <td>...</td>\n",
       "      <td>...</td>\n",
       "      <td>...</td>\n",
       "      <td>...</td>\n",
       "      <td>...</td>\n",
       "      <td>...</td>\n",
       "      <td>...</td>\n",
       "      <td>...</td>\n",
       "      <td>...</td>\n",
       "      <td>...</td>\n",
       "      <td>...</td>\n",
       "      <td>...</td>\n",
       "      <td>...</td>\n",
       "    </tr>\n",
       "    <tr>\n",
       "      <th>32035</th>\n",
       "      <td>SO61267</td>\n",
       "      <td>Touring-1000 Blue, 60</td>\n",
       "      <td>Blue</td>\n",
       "      <td>Bikes</td>\n",
       "      <td>Touring Bikes</td>\n",
       "      <td>2384.0700</td>\n",
       "      <td>6/30/2013</td>\n",
       "      <td>7/12/2013</td>\n",
       "      <td>7/7/2013</td>\n",
       "      <td>No Discount</td>\n",
       "      <td>Northwest</td>\n",
       "      <td>2</td>\n",
       "      <td>1430.4420</td>\n",
       "      <td>2860.8840</td>\n",
       "      <td>0.0</td>\n",
       "      <td>228.8707</td>\n",
       "      <td>71.5221</td>\n",
       "    </tr>\n",
       "    <tr>\n",
       "      <th>32036</th>\n",
       "      <td>SO61267</td>\n",
       "      <td>Touring-2000 Blue, 60</td>\n",
       "      <td>Blue</td>\n",
       "      <td>Bikes</td>\n",
       "      <td>Touring Bikes</td>\n",
       "      <td>1214.8500</td>\n",
       "      <td>6/30/2013</td>\n",
       "      <td>7/12/2013</td>\n",
       "      <td>7/7/2013</td>\n",
       "      <td>No Discount</td>\n",
       "      <td>Northwest</td>\n",
       "      <td>1</td>\n",
       "      <td>728.9100</td>\n",
       "      <td>728.9100</td>\n",
       "      <td>0.0</td>\n",
       "      <td>58.3128</td>\n",
       "      <td>18.2228</td>\n",
       "    </tr>\n",
       "    <tr>\n",
       "      <th>32037</th>\n",
       "      <td>SO61267</td>\n",
       "      <td>HL Touring Frame - Blue, 60</td>\n",
       "      <td>Blue</td>\n",
       "      <td>Components</td>\n",
       "      <td>Touring Frames</td>\n",
       "      <td>1003.9100</td>\n",
       "      <td>6/30/2013</td>\n",
       "      <td>7/12/2013</td>\n",
       "      <td>7/7/2013</td>\n",
       "      <td>No Discount</td>\n",
       "      <td>Northwest</td>\n",
       "      <td>2</td>\n",
       "      <td>602.3460</td>\n",
       "      <td>1204.6920</td>\n",
       "      <td>0.0</td>\n",
       "      <td>96.3754</td>\n",
       "      <td>30.1173</td>\n",
       "    </tr>\n",
       "    <tr>\n",
       "      <th>32038</th>\n",
       "      <td>SO61267</td>\n",
       "      <td>Touring-2000 Blue, 54</td>\n",
       "      <td>Blue</td>\n",
       "      <td>Bikes</td>\n",
       "      <td>Touring Bikes</td>\n",
       "      <td>1214.8500</td>\n",
       "      <td>6/30/2013</td>\n",
       "      <td>7/12/2013</td>\n",
       "      <td>7/7/2013</td>\n",
       "      <td>No Discount</td>\n",
       "      <td>Northwest</td>\n",
       "      <td>2</td>\n",
       "      <td>728.9100</td>\n",
       "      <td>1457.8200</td>\n",
       "      <td>0.0</td>\n",
       "      <td>116.6256</td>\n",
       "      <td>36.4455</td>\n",
       "    </tr>\n",
       "    <tr>\n",
       "      <th>32039</th>\n",
       "      <td>SO61268</td>\n",
       "      <td>LL Touring Frame - Yellow, 50</td>\n",
       "      <td>Yellow</td>\n",
       "      <td>Components</td>\n",
       "      <td>Touring Frames</td>\n",
       "      <td>333.4200</td>\n",
       "      <td>6/30/2013</td>\n",
       "      <td>7/12/2013</td>\n",
       "      <td>7/7/2013</td>\n",
       "      <td>No Discount</td>\n",
       "      <td>Southwest</td>\n",
       "      <td>3</td>\n",
       "      <td>200.0520</td>\n",
       "      <td>600.1560</td>\n",
       "      <td>0.0</td>\n",
       "      <td>48.0125</td>\n",
       "      <td>15.0039</td>\n",
       "    </tr>\n",
       "  </tbody>\n",
       "</table>\n",
       "<p>32040 rows × 17 columns</p>\n",
       "</div>"
      ],
      "text/plain": [
       "      OrderNumber                     ProductName   Color    Category  \\\n",
       "0         SO43843         Mountain-100 Silver, 48  Silver       Bikes   \n",
       "1         SO43843          Mountain-100 Black, 48   Black       Bikes   \n",
       "2         SO43843  HL Mountain Frame - Silver, 46  Silver  Components   \n",
       "3         SO43843          Mountain-100 Black, 44   Black       Bikes   \n",
       "4         SO43843  HL Mountain Frame - Silver, 38  Silver  Components   \n",
       "...           ...                             ...     ...         ...   \n",
       "32035     SO61267           Touring-1000 Blue, 60    Blue       Bikes   \n",
       "32036     SO61267           Touring-2000 Blue, 60    Blue       Bikes   \n",
       "32037     SO61267     HL Touring Frame - Blue, 60    Blue  Components   \n",
       "32038     SO61267           Touring-2000 Blue, 54    Blue       Bikes   \n",
       "32039     SO61268   LL Touring Frame - Yellow, 50  Yellow  Components   \n",
       "\n",
       "           Subcategory  ListPrice  Orderdate    Duedate  Shipdate  \\\n",
       "0       Mountain Bikes  3399.9900  1/29/2011  2/10/2011  2/5/2011   \n",
       "1       Mountain Bikes  3374.9900  1/29/2011  2/10/2011  2/5/2011   \n",
       "2      Mountain Frames  1204.3248  1/29/2011  2/10/2011  2/5/2011   \n",
       "3       Mountain Bikes        NaN  1/29/2011  2/10/2011  2/5/2011   \n",
       "4      Mountain Frames  1204.3248  1/29/2011  2/10/2011  2/5/2011   \n",
       "...                ...        ...        ...        ...       ...   \n",
       "32035    Touring Bikes  2384.0700  6/30/2013  7/12/2013  7/7/2013   \n",
       "32036    Touring Bikes  1214.8500  6/30/2013  7/12/2013  7/7/2013   \n",
       "32037   Touring Frames  1003.9100  6/30/2013  7/12/2013  7/7/2013   \n",
       "32038    Touring Bikes  1214.8500  6/30/2013  7/12/2013  7/7/2013   \n",
       "32039   Touring Frames   333.4200  6/30/2013  7/12/2013  7/7/2013   \n",
       "\n",
       "      PromotionName SalesRegion OrderQuantity  UnitPrice  SalesAmount  \\\n",
       "0       No Discount     Central             2  2039.9940    4079.9880   \n",
       "1       No Discount     Central             2  2024.9940    4049.9880   \n",
       "2       No Discount     Central             2   722.5949    1445.1898   \n",
       "3       No Discount     Central             5  2024.9940   10124.9700   \n",
       "4       No Discount     Central             2   722.5949    1445.1898   \n",
       "...             ...         ...           ...        ...          ...   \n",
       "32035   No Discount   Northwest             2  1430.4420    2860.8840   \n",
       "32036   No Discount   Northwest             1   728.9100     728.9100   \n",
       "32037   No Discount   Northwest             2   602.3460    1204.6920   \n",
       "32038   No Discount   Northwest             2   728.9100    1457.8200   \n",
       "32039   No Discount   Southwest             3   200.0520     600.1560   \n",
       "\n",
       "       DiscountAmount  TaxAmount   Freight  \n",
       "0                 0.0   326.3990  101.9997  \n",
       "1                 0.0   323.9990  101.2497  \n",
       "2                 0.0   115.6152   36.1297  \n",
       "3                 0.0   809.9976  253.1243  \n",
       "4                 0.0   115.6152   36.1297  \n",
       "...               ...        ...       ...  \n",
       "32035             0.0   228.8707   71.5221  \n",
       "32036             0.0    58.3128   18.2228  \n",
       "32037             0.0    96.3754   30.1173  \n",
       "32038             0.0   116.6256   36.4455  \n",
       "32039             0.0    48.0125   15.0039  \n",
       "\n",
       "[32040 rows x 17 columns]"
      ]
     },
     "execution_count": 2,
     "metadata": {},
     "output_type": "execute_result"
    }
   ],
   "source": [
    "df = pd.read_csv(\"retail.csv\")\n",
    "df"
   ]
  },
  {
   "cell_type": "code",
   "execution_count": 3,
   "id": "0295d40e-0acd-43c1-9367-32db46e9e957",
   "metadata": {},
   "outputs": [
    {
     "data": {
      "text/html": [
       "<div>\n",
       "<style scoped>\n",
       "    .dataframe tbody tr th:only-of-type {\n",
       "        vertical-align: middle;\n",
       "    }\n",
       "\n",
       "    .dataframe tbody tr th {\n",
       "        vertical-align: top;\n",
       "    }\n",
       "\n",
       "    .dataframe thead th {\n",
       "        text-align: right;\n",
       "    }\n",
       "</style>\n",
       "<table border=\"1\" class=\"dataframe\">\n",
       "  <thead>\n",
       "    <tr style=\"text-align: right;\">\n",
       "      <th></th>\n",
       "      <th>OrderNumber</th>\n",
       "      <th>ProductName</th>\n",
       "      <th>Color</th>\n",
       "      <th>Category</th>\n",
       "      <th>Subcategory</th>\n",
       "      <th>ListPrice</th>\n",
       "      <th>Orderdate</th>\n",
       "      <th>Duedate</th>\n",
       "      <th>Shipdate</th>\n",
       "      <th>PromotionName</th>\n",
       "      <th>SalesRegion</th>\n",
       "      <th>OrderQuantity</th>\n",
       "      <th>UnitPrice</th>\n",
       "      <th>SalesAmount</th>\n",
       "      <th>DiscountAmount</th>\n",
       "      <th>TaxAmount</th>\n",
       "      <th>Freight</th>\n",
       "    </tr>\n",
       "  </thead>\n",
       "  <tbody>\n",
       "    <tr>\n",
       "      <th>0</th>\n",
       "      <td>SO43843</td>\n",
       "      <td>Mountain-100 Silver, 48</td>\n",
       "      <td>Silver</td>\n",
       "      <td>Bikes</td>\n",
       "      <td>Mountain Bikes</td>\n",
       "      <td>3399.9900</td>\n",
       "      <td>1/29/2011</td>\n",
       "      <td>2/10/2011</td>\n",
       "      <td>2/5/2011</td>\n",
       "      <td>No Discount</td>\n",
       "      <td>Central</td>\n",
       "      <td>2</td>\n",
       "      <td>2039.9940</td>\n",
       "      <td>4079.9880</td>\n",
       "      <td>0.0</td>\n",
       "      <td>326.3990</td>\n",
       "      <td>101.9997</td>\n",
       "    </tr>\n",
       "    <tr>\n",
       "      <th>1</th>\n",
       "      <td>SO43843</td>\n",
       "      <td>Mountain-100 Black, 48</td>\n",
       "      <td>Black</td>\n",
       "      <td>Bikes</td>\n",
       "      <td>Mountain Bikes</td>\n",
       "      <td>3374.9900</td>\n",
       "      <td>1/29/2011</td>\n",
       "      <td>2/10/2011</td>\n",
       "      <td>2/5/2011</td>\n",
       "      <td>No Discount</td>\n",
       "      <td>Central</td>\n",
       "      <td>2</td>\n",
       "      <td>2024.9940</td>\n",
       "      <td>4049.9880</td>\n",
       "      <td>0.0</td>\n",
       "      <td>323.9990</td>\n",
       "      <td>101.2497</td>\n",
       "    </tr>\n",
       "    <tr>\n",
       "      <th>2</th>\n",
       "      <td>SO43843</td>\n",
       "      <td>HL Mountain Frame - Silver, 46</td>\n",
       "      <td>Silver</td>\n",
       "      <td>Components</td>\n",
       "      <td>Mountain Frames</td>\n",
       "      <td>1204.3248</td>\n",
       "      <td>1/29/2011</td>\n",
       "      <td>2/10/2011</td>\n",
       "      <td>2/5/2011</td>\n",
       "      <td>No Discount</td>\n",
       "      <td>Central</td>\n",
       "      <td>2</td>\n",
       "      <td>722.5949</td>\n",
       "      <td>1445.1898</td>\n",
       "      <td>0.0</td>\n",
       "      <td>115.6152</td>\n",
       "      <td>36.1297</td>\n",
       "    </tr>\n",
       "    <tr>\n",
       "      <th>3</th>\n",
       "      <td>SO43843</td>\n",
       "      <td>Mountain-100 Black, 44</td>\n",
       "      <td>Black</td>\n",
       "      <td>Bikes</td>\n",
       "      <td>Mountain Bikes</td>\n",
       "      <td>NaN</td>\n",
       "      <td>1/29/2011</td>\n",
       "      <td>2/10/2011</td>\n",
       "      <td>2/5/2011</td>\n",
       "      <td>No Discount</td>\n",
       "      <td>Central</td>\n",
       "      <td>5</td>\n",
       "      <td>2024.9940</td>\n",
       "      <td>10124.9700</td>\n",
       "      <td>0.0</td>\n",
       "      <td>809.9976</td>\n",
       "      <td>253.1243</td>\n",
       "    </tr>\n",
       "    <tr>\n",
       "      <th>4</th>\n",
       "      <td>SO43843</td>\n",
       "      <td>HL Mountain Frame - Silver, 38</td>\n",
       "      <td>Silver</td>\n",
       "      <td>Components</td>\n",
       "      <td>Mountain Frames</td>\n",
       "      <td>1204.3248</td>\n",
       "      <td>1/29/2011</td>\n",
       "      <td>2/10/2011</td>\n",
       "      <td>2/5/2011</td>\n",
       "      <td>No Discount</td>\n",
       "      <td>Central</td>\n",
       "      <td>2</td>\n",
       "      <td>722.5949</td>\n",
       "      <td>1445.1898</td>\n",
       "      <td>0.0</td>\n",
       "      <td>115.6152</td>\n",
       "      <td>36.1297</td>\n",
       "    </tr>\n",
       "  </tbody>\n",
       "</table>\n",
       "</div>"
      ],
      "text/plain": [
       "  OrderNumber                     ProductName   Color    Category  \\\n",
       "0     SO43843         Mountain-100 Silver, 48  Silver       Bikes   \n",
       "1     SO43843          Mountain-100 Black, 48   Black       Bikes   \n",
       "2     SO43843  HL Mountain Frame - Silver, 46  Silver  Components   \n",
       "3     SO43843          Mountain-100 Black, 44   Black       Bikes   \n",
       "4     SO43843  HL Mountain Frame - Silver, 38  Silver  Components   \n",
       "\n",
       "       Subcategory  ListPrice  Orderdate    Duedate  Shipdate PromotionName  \\\n",
       "0   Mountain Bikes  3399.9900  1/29/2011  2/10/2011  2/5/2011   No Discount   \n",
       "1   Mountain Bikes  3374.9900  1/29/2011  2/10/2011  2/5/2011   No Discount   \n",
       "2  Mountain Frames  1204.3248  1/29/2011  2/10/2011  2/5/2011   No Discount   \n",
       "3   Mountain Bikes        NaN  1/29/2011  2/10/2011  2/5/2011   No Discount   \n",
       "4  Mountain Frames  1204.3248  1/29/2011  2/10/2011  2/5/2011   No Discount   \n",
       "\n",
       "  SalesRegion OrderQuantity  UnitPrice  SalesAmount  DiscountAmount  \\\n",
       "0     Central             2  2039.9940    4079.9880             0.0   \n",
       "1     Central             2  2024.9940    4049.9880             0.0   \n",
       "2     Central             2   722.5949    1445.1898             0.0   \n",
       "3     Central             5  2024.9940   10124.9700             0.0   \n",
       "4     Central             2   722.5949    1445.1898             0.0   \n",
       "\n",
       "   TaxAmount   Freight  \n",
       "0   326.3990  101.9997  \n",
       "1   323.9990  101.2497  \n",
       "2   115.6152   36.1297  \n",
       "3   809.9976  253.1243  \n",
       "4   115.6152   36.1297  "
      ]
     },
     "execution_count": 3,
     "metadata": {},
     "output_type": "execute_result"
    }
   ],
   "source": [
    "df.head() # display first 5 records"
   ]
  },
  {
   "cell_type": "code",
   "execution_count": 4,
   "id": "98a7883e-20f8-4d76-8955-73ce82f7acce",
   "metadata": {},
   "outputs": [
    {
     "data": {
      "text/html": [
       "<div>\n",
       "<style scoped>\n",
       "    .dataframe tbody tr th:only-of-type {\n",
       "        vertical-align: middle;\n",
       "    }\n",
       "\n",
       "    .dataframe tbody tr th {\n",
       "        vertical-align: top;\n",
       "    }\n",
       "\n",
       "    .dataframe thead th {\n",
       "        text-align: right;\n",
       "    }\n",
       "</style>\n",
       "<table border=\"1\" class=\"dataframe\">\n",
       "  <thead>\n",
       "    <tr style=\"text-align: right;\">\n",
       "      <th></th>\n",
       "      <th>OrderNumber</th>\n",
       "      <th>ProductName</th>\n",
       "      <th>Color</th>\n",
       "      <th>Category</th>\n",
       "      <th>Subcategory</th>\n",
       "      <th>ListPrice</th>\n",
       "      <th>Orderdate</th>\n",
       "      <th>Duedate</th>\n",
       "      <th>Shipdate</th>\n",
       "      <th>PromotionName</th>\n",
       "      <th>SalesRegion</th>\n",
       "      <th>OrderQuantity</th>\n",
       "      <th>UnitPrice</th>\n",
       "      <th>SalesAmount</th>\n",
       "      <th>DiscountAmount</th>\n",
       "      <th>TaxAmount</th>\n",
       "      <th>Freight</th>\n",
       "    </tr>\n",
       "  </thead>\n",
       "  <tbody>\n",
       "    <tr>\n",
       "      <th>32035</th>\n",
       "      <td>SO61267</td>\n",
       "      <td>Touring-1000 Blue, 60</td>\n",
       "      <td>Blue</td>\n",
       "      <td>Bikes</td>\n",
       "      <td>Touring Bikes</td>\n",
       "      <td>2384.07</td>\n",
       "      <td>6/30/2013</td>\n",
       "      <td>7/12/2013</td>\n",
       "      <td>7/7/2013</td>\n",
       "      <td>No Discount</td>\n",
       "      <td>Northwest</td>\n",
       "      <td>2</td>\n",
       "      <td>1430.442</td>\n",
       "      <td>2860.884</td>\n",
       "      <td>0.0</td>\n",
       "      <td>228.8707</td>\n",
       "      <td>71.5221</td>\n",
       "    </tr>\n",
       "    <tr>\n",
       "      <th>32036</th>\n",
       "      <td>SO61267</td>\n",
       "      <td>Touring-2000 Blue, 60</td>\n",
       "      <td>Blue</td>\n",
       "      <td>Bikes</td>\n",
       "      <td>Touring Bikes</td>\n",
       "      <td>1214.85</td>\n",
       "      <td>6/30/2013</td>\n",
       "      <td>7/12/2013</td>\n",
       "      <td>7/7/2013</td>\n",
       "      <td>No Discount</td>\n",
       "      <td>Northwest</td>\n",
       "      <td>1</td>\n",
       "      <td>728.910</td>\n",
       "      <td>728.910</td>\n",
       "      <td>0.0</td>\n",
       "      <td>58.3128</td>\n",
       "      <td>18.2228</td>\n",
       "    </tr>\n",
       "    <tr>\n",
       "      <th>32037</th>\n",
       "      <td>SO61267</td>\n",
       "      <td>HL Touring Frame - Blue, 60</td>\n",
       "      <td>Blue</td>\n",
       "      <td>Components</td>\n",
       "      <td>Touring Frames</td>\n",
       "      <td>1003.91</td>\n",
       "      <td>6/30/2013</td>\n",
       "      <td>7/12/2013</td>\n",
       "      <td>7/7/2013</td>\n",
       "      <td>No Discount</td>\n",
       "      <td>Northwest</td>\n",
       "      <td>2</td>\n",
       "      <td>602.346</td>\n",
       "      <td>1204.692</td>\n",
       "      <td>0.0</td>\n",
       "      <td>96.3754</td>\n",
       "      <td>30.1173</td>\n",
       "    </tr>\n",
       "    <tr>\n",
       "      <th>32038</th>\n",
       "      <td>SO61267</td>\n",
       "      <td>Touring-2000 Blue, 54</td>\n",
       "      <td>Blue</td>\n",
       "      <td>Bikes</td>\n",
       "      <td>Touring Bikes</td>\n",
       "      <td>1214.85</td>\n",
       "      <td>6/30/2013</td>\n",
       "      <td>7/12/2013</td>\n",
       "      <td>7/7/2013</td>\n",
       "      <td>No Discount</td>\n",
       "      <td>Northwest</td>\n",
       "      <td>2</td>\n",
       "      <td>728.910</td>\n",
       "      <td>1457.820</td>\n",
       "      <td>0.0</td>\n",
       "      <td>116.6256</td>\n",
       "      <td>36.4455</td>\n",
       "    </tr>\n",
       "    <tr>\n",
       "      <th>32039</th>\n",
       "      <td>SO61268</td>\n",
       "      <td>LL Touring Frame - Yellow, 50</td>\n",
       "      <td>Yellow</td>\n",
       "      <td>Components</td>\n",
       "      <td>Touring Frames</td>\n",
       "      <td>333.42</td>\n",
       "      <td>6/30/2013</td>\n",
       "      <td>7/12/2013</td>\n",
       "      <td>7/7/2013</td>\n",
       "      <td>No Discount</td>\n",
       "      <td>Southwest</td>\n",
       "      <td>3</td>\n",
       "      <td>200.052</td>\n",
       "      <td>600.156</td>\n",
       "      <td>0.0</td>\n",
       "      <td>48.0125</td>\n",
       "      <td>15.0039</td>\n",
       "    </tr>\n",
       "  </tbody>\n",
       "</table>\n",
       "</div>"
      ],
      "text/plain": [
       "      OrderNumber                    ProductName   Color    Category  \\\n",
       "32035     SO61267          Touring-1000 Blue, 60    Blue       Bikes   \n",
       "32036     SO61267          Touring-2000 Blue, 60    Blue       Bikes   \n",
       "32037     SO61267    HL Touring Frame - Blue, 60    Blue  Components   \n",
       "32038     SO61267          Touring-2000 Blue, 54    Blue       Bikes   \n",
       "32039     SO61268  LL Touring Frame - Yellow, 50  Yellow  Components   \n",
       "\n",
       "          Subcategory  ListPrice  Orderdate    Duedate  Shipdate  \\\n",
       "32035   Touring Bikes    2384.07  6/30/2013  7/12/2013  7/7/2013   \n",
       "32036   Touring Bikes    1214.85  6/30/2013  7/12/2013  7/7/2013   \n",
       "32037  Touring Frames    1003.91  6/30/2013  7/12/2013  7/7/2013   \n",
       "32038   Touring Bikes    1214.85  6/30/2013  7/12/2013  7/7/2013   \n",
       "32039  Touring Frames     333.42  6/30/2013  7/12/2013  7/7/2013   \n",
       "\n",
       "      PromotionName SalesRegion OrderQuantity  UnitPrice  SalesAmount  \\\n",
       "32035   No Discount   Northwest             2   1430.442     2860.884   \n",
       "32036   No Discount   Northwest             1    728.910      728.910   \n",
       "32037   No Discount   Northwest             2    602.346     1204.692   \n",
       "32038   No Discount   Northwest             2    728.910     1457.820   \n",
       "32039   No Discount   Southwest             3    200.052      600.156   \n",
       "\n",
       "       DiscountAmount  TaxAmount  Freight  \n",
       "32035             0.0   228.8707  71.5221  \n",
       "32036             0.0    58.3128  18.2228  \n",
       "32037             0.0    96.3754  30.1173  \n",
       "32038             0.0   116.6256  36.4455  \n",
       "32039             0.0    48.0125  15.0039  "
      ]
     },
     "execution_count": 4,
     "metadata": {},
     "output_type": "execute_result"
    }
   ],
   "source": [
    "df.tail() # display last 5 record"
   ]
  },
  {
   "cell_type": "code",
   "execution_count": 5,
   "id": "f9848977-8f65-4d2d-a28e-839818f75849",
   "metadata": {},
   "outputs": [
    {
     "data": {
      "text/html": [
       "<div>\n",
       "<style scoped>\n",
       "    .dataframe tbody tr th:only-of-type {\n",
       "        vertical-align: middle;\n",
       "    }\n",
       "\n",
       "    .dataframe tbody tr th {\n",
       "        vertical-align: top;\n",
       "    }\n",
       "\n",
       "    .dataframe thead th {\n",
       "        text-align: right;\n",
       "    }\n",
       "</style>\n",
       "<table border=\"1\" class=\"dataframe\">\n",
       "  <thead>\n",
       "    <tr style=\"text-align: right;\">\n",
       "      <th></th>\n",
       "      <th>OrderNumber</th>\n",
       "      <th>ProductName</th>\n",
       "      <th>Color</th>\n",
       "      <th>Category</th>\n",
       "      <th>Subcategory</th>\n",
       "      <th>ListPrice</th>\n",
       "      <th>Orderdate</th>\n",
       "      <th>Duedate</th>\n",
       "      <th>Shipdate</th>\n",
       "      <th>PromotionName</th>\n",
       "      <th>SalesRegion</th>\n",
       "      <th>OrderQuantity</th>\n",
       "      <th>UnitPrice</th>\n",
       "      <th>SalesAmount</th>\n",
       "      <th>DiscountAmount</th>\n",
       "      <th>TaxAmount</th>\n",
       "      <th>Freight</th>\n",
       "    </tr>\n",
       "  </thead>\n",
       "  <tbody>\n",
       "    <tr>\n",
       "      <th>21837</th>\n",
       "      <td>SO53565</td>\n",
       "      <td>Touring-1000 Yellow, 50</td>\n",
       "      <td>Yellow</td>\n",
       "      <td>Bikes</td>\n",
       "      <td>Touring Bikes</td>\n",
       "      <td>2384.07</td>\n",
       "      <td>2/28/2013</td>\n",
       "      <td>3/12/2013</td>\n",
       "      <td>3/7/2013</td>\n",
       "      <td>Touring-1000 Promotion</td>\n",
       "      <td>Australia</td>\n",
       "      <td>4</td>\n",
       "      <td>953.628</td>\n",
       "      <td>3051.6096</td>\n",
       "      <td>762.9024</td>\n",
       "      <td>244.1288</td>\n",
       "      <td>76.2902</td>\n",
       "    </tr>\n",
       "  </tbody>\n",
       "</table>\n",
       "</div>"
      ],
      "text/plain": [
       "      OrderNumber              ProductName   Color Category    Subcategory  \\\n",
       "21837     SO53565  Touring-1000 Yellow, 50  Yellow    Bikes  Touring Bikes   \n",
       "\n",
       "       ListPrice  Orderdate    Duedate  Shipdate           PromotionName  \\\n",
       "21837    2384.07  2/28/2013  3/12/2013  3/7/2013  Touring-1000 Promotion   \n",
       "\n",
       "      SalesRegion OrderQuantity  UnitPrice  SalesAmount  DiscountAmount  \\\n",
       "21837   Australia             4    953.628    3051.6096        762.9024   \n",
       "\n",
       "       TaxAmount  Freight  \n",
       "21837   244.1288  76.2902  "
      ]
     },
     "execution_count": 5,
     "metadata": {},
     "output_type": "execute_result"
    }
   ],
   "source": [
    "df.sample()"
   ]
  },
  {
   "cell_type": "code",
   "execution_count": 6,
   "id": "0e34c19e-a548-4feb-9e0a-c39614dffa85",
   "metadata": {},
   "outputs": [
    {
     "data": {
      "text/plain": [
       "(32040, 17)"
      ]
     },
     "execution_count": 6,
     "metadata": {},
     "output_type": "execute_result"
    }
   ],
   "source": [
    "# Checked the size of the data.\n",
    "df.shape "
   ]
  },
  {
   "cell_type": "markdown",
   "id": "fdb66442-dc90-419d-9686-812af4fa9268",
   "metadata": {},
   "source": [
    "##### Result: The data has 32040 rows and 17 columns"
   ]
  },
  {
   "cell_type": "code",
   "execution_count": 7,
   "id": "fad3969e-b363-403a-9417-05c94f3cad11",
   "metadata": {},
   "outputs": [
    {
     "data": {
      "text/plain": [
       "Index(['OrderNumber', 'ProductName', 'Color', 'Category', 'Subcategory',\n",
       "       'ListPrice', 'Orderdate', 'Duedate', 'Shipdate', 'PromotionName',\n",
       "       'SalesRegion', 'OrderQuantity', 'UnitPrice', 'SalesAmount',\n",
       "       'DiscountAmount', 'TaxAmount', 'Freight'],\n",
       "      dtype='object')"
      ]
     },
     "execution_count": 7,
     "metadata": {},
     "output_type": "execute_result"
    }
   ],
   "source": [
    "df.columns # display all columns in the data"
   ]
  },
  {
   "cell_type": "code",
   "execution_count": 8,
   "id": "e7172087-601b-415f-a362-981ed4c1af4f",
   "metadata": {},
   "outputs": [
    {
     "data": {
      "text/plain": [
       "array(['Silver', 'Black', 'White', 'Red', 'Multi', 'Blue', nan, 'Yellow',\n",
       "       'Silver/Black'], dtype=object)"
      ]
     },
     "execution_count": 8,
     "metadata": {},
     "output_type": "execute_result"
    }
   ],
   "source": [
    "# Check for inconsistencies.\n",
    "df[\"Color\"].unique()"
   ]
  },
  {
   "cell_type": "code",
   "execution_count": 9,
   "id": "2f76dbc7-53cf-418b-b00e-4cdd28a41ae7",
   "metadata": {},
   "outputs": [
    {
     "data": {
      "text/plain": [
       "array(['Bikes', 'Components', 'Clothing', 'Accessories'], dtype=object)"
      ]
     },
     "execution_count": 9,
     "metadata": {},
     "output_type": "execute_result"
    }
   ],
   "source": [
    "df[\"Category\"].unique()"
   ]
  },
  {
   "cell_type": "code",
   "execution_count": 10,
   "id": "e5b1f59b-2f99-4336-a577-4dd3ed1fe113",
   "metadata": {},
   "outputs": [
    {
     "data": {
      "text/plain": [
       "array(['Mountain Bikes', 'Mountain Frames', 'Socks', 'Road Frames',\n",
       "       'Jerseys', 'Road Bikes', 'Caps', 'Helmets', 'Handlebars', 'Wheels',\n",
       "       'Gloves', 'Bib-Shorts', 'Tights', 'Headsets', 'Forks', 'Pumps',\n",
       "       'Shorts', 'Locks', 'Brakes', 'Derailleurs', 'Chains', 'Saddles',\n",
       "       'Pedals', 'Cranksets', 'Bottom Brackets', 'Cleaners',\n",
       "       'Bottles and Cages', 'Hydration Packs', 'Bike Racks', 'Vests',\n",
       "       'Touring Bikes', 'Touring Frames', 'Tires and Tubes'], dtype=object)"
      ]
     },
     "execution_count": 10,
     "metadata": {},
     "output_type": "execute_result"
    }
   ],
   "source": [
    "df[\"Subcategory\"].unique()"
   ]
  },
  {
   "cell_type": "code",
   "execution_count": 11,
   "id": "4bcc260b-e983-4612-bd9e-9a916d41493b",
   "metadata": {},
   "outputs": [
    {
     "data": {
      "text/plain": [
       "array(['Central', nan, 'Southeast', 'Canada', 'Northwest', 'Northeast',\n",
       "       'Southwest', 'United Kingdom', 'France', 'Germany', 'Australia'],\n",
       "      dtype=object)"
      ]
     },
     "execution_count": 11,
     "metadata": {},
     "output_type": "execute_result"
    }
   ],
   "source": [
    "df[\"SalesRegion\"].unique()"
   ]
  },
  {
   "cell_type": "code",
   "execution_count": 12,
   "id": "cf4a9acd-afb9-4aa9-aae9-70d8435bfcd8",
   "metadata": {},
   "outputs": [
    {
     "data": {
      "text/plain": [
       "array(['Mountain-100 Silver, 48', 'Mountain-100 Black, 48',\n",
       "       'HL Mountain Frame - Silver, 46', 'Mountain-100 Black, 44',\n",
       "       'HL Mountain Frame - Silver, 38', 'HL Mountain Frame - Silver, 48',\n",
       "       'HL Mountain Frame - Black, 48', 'Mountain-100 Silver, 38',\n",
       "       'Mountain Bike Socks, M', 'Mountain-100 Black, 42',\n",
       "       'Mountain-100 Black, 38', 'LL Road Frame - Red, 44',\n",
       "       'Long-Sleeve Logo Jersey, L', 'Road-650 Black, 52',\n",
       "       'Road-650 Red, 48', 'Road-650 Red, 62', 'Road-450 Red, 58',\n",
       "       'Road-650 Black, 58', 'Road-150 Red, 56',\n",
       "       'LL Road Frame - Red, 60', 'AWC Logo Cap',\n",
       "       'LL Road Frame - Black, 52', 'Road-450 Red, 52',\n",
       "       'Mountain-100 Silver, 44', 'Long-Sleeve Logo Jersey, M',\n",
       "       'Sport-100 Helmet, Blue', 'Mountain-100 Silver, 42',\n",
       "       'Sport-100 Helmet, Red', 'Sport-100 Helmet, Black',\n",
       "       'Road-450 Red, 60', 'Road-650 Red, 44', 'Road-450 Red, 44',\n",
       "       'ML Road Frame - Red, 48', 'Road-650 Red, 60',\n",
       "       'Road-650 Black, 60', 'LL Road Frame - Red, 48',\n",
       "       'Road-650 Black, 44', 'Long-Sleeve Logo Jersey, XL',\n",
       "       'LL Road Frame - Black, 58', 'Road-650 Red, 52',\n",
       "       'ML Road Frame - Red, 52', 'LL Road Frame - Red, 62',\n",
       "       'HL Mountain Frame - Black, 38', 'HL Mountain Frame - Black, 42',\n",
       "       'Road-150 Red, 62', 'Mountain Bike Socks, L',\n",
       "       'HL Mountain Frame - Silver, 42', 'HL Mountain Frame - Black, 44',\n",
       "       'LL Road Frame - Black, 44', 'Road-650 Black, 62',\n",
       "       'HL Road Frame - Red, 62', 'Road-650 Black, 48',\n",
       "       'LL Road Frame - Red, 52', 'HL Road Frame - Red, 44',\n",
       "       'Road-650 Red, 58', 'Road-150 Red, 48', 'Road-150 Red, 52',\n",
       "       'Road-150 Red, 44', 'Road-450 Red, 48',\n",
       "       'LL Road Frame - Black, 60', 'LL Mountain Handlebars',\n",
       "       'HL Mountain Rear Wheel', 'LL Mountain Rear Wheel',\n",
       "       'Mountain-200 Silver, 42', 'Full-Finger Gloves, L',\n",
       "       'Mountain-200 Black, 42', 'ML Mountain Rear Wheel',\n",
       "       \"Men's Bib-Shorts, M\", 'Full-Finger Gloves, S',\n",
       "       'ML Mountain Frame - Black, 48', 'Mountain-200 Silver, 38',\n",
       "       'LL Mountain Front Wheel', \"Women's Tights, S\",\n",
       "       'ML Mountain Handlebars', 'Full-Finger Gloves, M',\n",
       "       \"Women's Tights, L\", 'Mountain-200 Black, 38', 'HL Headset',\n",
       "       'HL Fork', 'Mountain-300 Black, 48',\n",
       "       'ML Mountain Frame - Black, 40', 'LL Fork',\n",
       "       'ML Mountain Frame - Black, 44', 'Mountain-200 Black, 46',\n",
       "       'ML Mountain Front Wheel', 'Mountain-300 Black, 40', 'ML Headset',\n",
       "       'Mountain-300 Black, 38', 'LL Headset', 'HL Mountain Front Wheel',\n",
       "       'Mountain-300 Black, 44', 'ML Mountain Frame - Black, 38',\n",
       "       'Road-550-W Yellow, 38', 'Road-250 Black, 58', 'Road-250 Red, 52',\n",
       "       'ML Road Frame-W - Yellow, 48', 'Road-250 Black, 48',\n",
       "       'Road-550-W Yellow, 48', 'ML Road Frame-W - Yellow, 38',\n",
       "       'LL Road Rear Wheel', 'HL Road Front Wheel', 'Road-250 Red, 58',\n",
       "       'Road-550-W Yellow, 40', 'Road-250 Red, 44', \"Men's Bib-Shorts, L\",\n",
       "       'Road-550-W Yellow, 42', 'Road-250 Black, 52',\n",
       "       'Road-550-W Yellow, 44', 'Road-250 Red, 48', 'ML Road Front Wheel',\n",
       "       'LL Road Handlebars', 'ML Road Frame-W - Yellow, 44',\n",
       "       'Mountain-200 Silver, 46', 'Minipump', \"Men's Sports Shorts, M\",\n",
       "       'Half-Finger Gloves, M', 'Cable Lock', 'HL Road Rear Wheel',\n",
       "       \"Men's Bib-Shorts, S\", 'HL Road Handlebars', 'Road-250 Black, 44',\n",
       "       'HL Road Frame - Black, 44', 'HL Mountain Handlebars',\n",
       "       'ML Road Rear Wheel', 'HL Road Frame - Red, 48',\n",
       "       'ML Road Frame-W - Yellow, 40', 'Half-Finger Gloves, L',\n",
       "       \"Men's Sports Shorts, L\", \"Men's Sports Shorts, S\",\n",
       "       \"Women's Tights, M\", 'Half-Finger Gloves, S',\n",
       "       'HL Road Frame - Black, 48', 'Rear Brakes',\n",
       "       \"Women's Mountain Shorts, S\", 'Short-Sleeve Classic Jersey, XL',\n",
       "       'Mountain-500 Silver, 42', 'Rear Derailleur', 'Chain',\n",
       "       'LL Mountain Frame - Silver, 42', 'Mountain-500 Black, 42',\n",
       "       'ML Mountain Seat/Saddle', 'LL Mountain Frame - Black, 42',\n",
       "       'Mountain-500 Black, 48', 'Mountain-400-W Silver, 40',\n",
       "       'LL Mountain Frame - Silver, 44', 'LL Mountain Seat/Saddle',\n",
       "       'ML Mountain Pedal', 'ML Mountain Frame-W - Silver, 46',\n",
       "       'LL Crankset', 'Front Derailleur', 'Front Brakes',\n",
       "       'Mountain-500 Silver, 52', 'HL Mountain Pedal',\n",
       "       'LL Bottom Bracket', 'LL Mountain Frame - Silver, 40',\n",
       "       'ML Mountain Frame-W - Silver, 42', 'HL Crankset',\n",
       "       'LL Mountain Frame - Black, 44', 'LL Mountain Pedal',\n",
       "       'LL Mountain Frame - Silver, 52', 'HL Mountain Seat/Saddle',\n",
       "       'LL Mountain Frame - Black, 48', 'Mountain-500 Silver, 40',\n",
       "       'Road-750 Black, 52', 'HL Road Seat/Saddle', 'HL Road Pedal',\n",
       "       'Road-350-W Yellow, 48', 'Road-750 Black, 58',\n",
       "       'Road-350-W Yellow, 40', 'Road-350-W Yellow, 42',\n",
       "       'Road-750 Black, 44', 'Racing Socks, M', 'Road-750 Black, 48',\n",
       "       'Road-350-W Yellow, 44', 'LL Road Pedal', 'ML Road Pedal',\n",
       "       'Racing Socks, L', 'ML Mountain Frame-W - Silver, 40',\n",
       "       \"Women's Mountain Shorts, L\", \"Women's Mountain Shorts, M\",\n",
       "       'Bike Wash - Dissolver', 'Water Bottle - 30 oz.',\n",
       "       'Hydration Pack - 70 oz.', 'Hitch Rack - 4-Bike',\n",
       "       'Short-Sleeve Classic Jersey, L', 'Classic Vest, M',\n",
       "       'Classic Vest, S', 'Short-Sleeve Classic Jersey, S',\n",
       "       'Touring-3000 Yellow, 62', 'Touring-3000 Blue, 54',\n",
       "       'HL Touring Handlebars', 'HL Bottom Bracket',\n",
       "       'LL Touring Frame - Yellow, 62', 'Touring-1000 Yellow, 60',\n",
       "       'HL Touring Frame - Blue, 60', 'Touring-3000 Yellow, 50',\n",
       "       'Touring-1000 Yellow, 50', 'LL Touring Frame - Yellow, 50',\n",
       "       'Touring-1000 Blue, 60', 'Touring-1000 Blue, 50',\n",
       "       'Touring-2000 Blue, 50', 'Touring-1000 Yellow, 46',\n",
       "       'Touring Pedal', 'Touring-1000 Blue, 46',\n",
       "       'LL Touring Frame - Blue, 50', 'Touring-3000 Yellow, 54',\n",
       "       'Touring-1000 Yellow, 54', 'LL Touring Seat/Saddle',\n",
       "       'LL Touring Frame - Yellow, 44', 'Touring-2000 Blue, 54',\n",
       "       'Touring-3000 Yellow, 44', 'HL Touring Frame - Yellow, 54',\n",
       "       'Patch Kit/8 Patches', 'Touring-1000 Blue, 54',\n",
       "       'Touring-2000 Blue, 46', 'Touring-3000 Yellow, 58',\n",
       "       'HL Touring Frame - Yellow, 60', 'HL Touring Seat/Saddle',\n",
       "       'Touring-3000 Blue, 62', 'HL Touring Frame - Blue, 54',\n",
       "       'Touring-2000 Blue, 60', 'Touring-3000 Blue, 50',\n",
       "       'LL Mountain Frame - Black, 52', 'Mountain-500 Black, 44',\n",
       "       'LL Mountain Frame - Black, 40',\n",
       "       'ML Mountain Frame-W - Silver, 38', 'Mountain-500 Silver, 48',\n",
       "       'Mountain-500 Silver, 44', 'ML Crankset', 'Touring-3000 Blue, 58',\n",
       "       'Mountain-400-W Silver, 46', 'Mountain-500 Black, 52',\n",
       "       'LL Touring Frame - Blue, 54', 'ML Touring Seat/Saddle',\n",
       "       'LL Touring Frame - Yellow, 58', 'HL Touring Frame - Yellow, 46',\n",
       "       'Touring-3000 Blue, 44', 'HL Touring Frame - Yellow, 50',\n",
       "       'Classic Vest, L', 'LL Touring Frame - Blue, 44',\n",
       "       'HL Touring Frame - Blue, 46', 'HL Touring Frame - Blue, 50',\n",
       "       'LL Touring Frame - Blue, 62', 'LL Mountain Frame - Silver, 48',\n",
       "       'LL Touring Handlebars', 'Mountain-400-W Silver, 42',\n",
       "       'Mountain-500 Black, 40', 'Mountain-400-W Silver, 38',\n",
       "       'LL Touring Frame - Blue, 58', 'LL Road Seat/Saddle'], dtype=object)"
      ]
     },
     "execution_count": 12,
     "metadata": {},
     "output_type": "execute_result"
    }
   ],
   "source": [
    "df[\"ProductName\"].unique()"
   ]
  },
  {
   "cell_type": "code",
   "execution_count": 13,
   "id": "975c83c1-c556-481d-8927-9ead2fe1f09e",
   "metadata": {},
   "outputs": [
    {
     "data": {
      "text/plain": [
       "250"
      ]
     },
     "execution_count": 13,
     "metadata": {},
     "output_type": "execute_result"
    }
   ],
   "source": [
    "df[\"ProductName\"].nunique()"
   ]
  },
  {
   "cell_type": "code",
   "execution_count": 14,
   "id": "39d27ddd-f782-47c7-af41-93257e1e9f9a",
   "metadata": {},
   "outputs": [
    {
     "data": {
      "text/plain": [
       "(32040, 17)"
      ]
     },
     "execution_count": 14,
     "metadata": {},
     "output_type": "execute_result"
    }
   ],
   "source": [
    "df.shape"
   ]
  },
  {
   "cell_type": "code",
   "execution_count": 15,
   "id": "bb16d644-0e16-4089-9757-dd3119d1fc53",
   "metadata": {},
   "outputs": [
    {
     "name": "stdout",
     "output_type": "stream",
     "text": [
      "<class 'pandas.core.frame.DataFrame'>\n",
      "RangeIndex: 32040 entries, 0 to 32039\n",
      "Data columns (total 17 columns):\n",
      " #   Column          Non-Null Count  Dtype  \n",
      "---  ------          --------------  -----  \n",
      " 0   OrderNumber     32040 non-null  object \n",
      " 1   ProductName     32040 non-null  object \n",
      " 2   Color           29073 non-null  object \n",
      " 3   Category        32040 non-null  object \n",
      " 4   Subcategory     32040 non-null  object \n",
      " 5   ListPrice       32032 non-null  float64\n",
      " 6   Orderdate       32040 non-null  object \n",
      " 7   Duedate         32040 non-null  object \n",
      " 8   Shipdate        32040 non-null  object \n",
      " 9   PromotionName   32040 non-null  object \n",
      " 10  SalesRegion     32025 non-null  object \n",
      " 11  OrderQuantity   32026 non-null  object \n",
      " 12  UnitPrice       32040 non-null  float64\n",
      " 13  SalesAmount     32040 non-null  float64\n",
      " 14  DiscountAmount  32040 non-null  float64\n",
      " 15  TaxAmount       32040 non-null  float64\n",
      " 16  Freight         32040 non-null  float64\n",
      "dtypes: float64(6), object(11)\n",
      "memory usage: 4.2+ MB\n"
     ]
    }
   ],
   "source": [
    "df.info()"
   ]
  },
  {
   "cell_type": "code",
   "execution_count": 16,
   "id": "9e99291d-e47e-4f7a-9661-6cfcea3a0bf0",
   "metadata": {},
   "outputs": [
    {
     "data": {
      "text/plain": [
       "OrderNumber          0\n",
       "ProductName          0\n",
       "Color             2967\n",
       "Category             0\n",
       "Subcategory          0\n",
       "ListPrice            8\n",
       "Orderdate            0\n",
       "Duedate              0\n",
       "Shipdate             0\n",
       "PromotionName        0\n",
       "SalesRegion         15\n",
       "OrderQuantity       14\n",
       "UnitPrice            0\n",
       "SalesAmount          0\n",
       "DiscountAmount       0\n",
       "TaxAmount            0\n",
       "Freight              0\n",
       "dtype: int64"
      ]
     },
     "execution_count": 16,
     "metadata": {},
     "output_type": "execute_result"
    }
   ],
   "source": [
    "df.isnull().sum()"
   ]
  },
  {
   "cell_type": "code",
   "execution_count": 17,
   "id": "3495c91b-b47f-4ad0-ad54-2dcbdc8ded0b",
   "metadata": {},
   "outputs": [
    {
     "data": {
      "text/plain": [
       "0"
      ]
     },
     "execution_count": 17,
     "metadata": {},
     "output_type": "execute_result"
    }
   ],
   "source": [
    "# Check for duplicate res\n",
    "df.duplicated().sum()"
   ]
  },
  {
   "cell_type": "code",
   "execution_count": 18,
   "id": "7f701b88-26ca-4fbd-b691-1fece6f3708c",
   "metadata": {},
   "outputs": [
    {
     "data": {
      "text/html": [
       "<div>\n",
       "<style scoped>\n",
       "    .dataframe tbody tr th:only-of-type {\n",
       "        vertical-align: middle;\n",
       "    }\n",
       "\n",
       "    .dataframe tbody tr th {\n",
       "        vertical-align: top;\n",
       "    }\n",
       "\n",
       "    .dataframe thead th {\n",
       "        text-align: right;\n",
       "    }\n",
       "</style>\n",
       "<table border=\"1\" class=\"dataframe\">\n",
       "  <thead>\n",
       "    <tr style=\"text-align: right;\">\n",
       "      <th></th>\n",
       "      <th>ListPrice</th>\n",
       "      <th>UnitPrice</th>\n",
       "      <th>SalesAmount</th>\n",
       "      <th>DiscountAmount</th>\n",
       "      <th>TaxAmount</th>\n",
       "      <th>Freight</th>\n",
       "    </tr>\n",
       "  </thead>\n",
       "  <tbody>\n",
       "    <tr>\n",
       "      <th>count</th>\n",
       "      <td>32032.000000</td>\n",
       "      <td>32040.000000</td>\n",
       "      <td>32040.000000</td>\n",
       "      <td>32040.00000</td>\n",
       "      <td>32040.000000</td>\n",
       "      <td>32040.000000</td>\n",
       "    </tr>\n",
       "    <tr>\n",
       "      <th>mean</th>\n",
       "      <td>714.663419</td>\n",
       "      <td>424.122103</td>\n",
       "      <td>1299.023131</td>\n",
       "      <td>8.15285</td>\n",
       "      <td>103.921849</td>\n",
       "      <td>32.475594</td>\n",
       "    </tr>\n",
       "    <tr>\n",
       "      <th>std</th>\n",
       "      <td>851.623778</td>\n",
       "      <td>506.799303</td>\n",
       "      <td>2153.316625</td>\n",
       "      <td>78.40708</td>\n",
       "      <td>172.265331</td>\n",
       "      <td>53.832916</td>\n",
       "    </tr>\n",
       "    <tr>\n",
       "      <th>min</th>\n",
       "      <td>2.290000</td>\n",
       "      <td>1.328200</td>\n",
       "      <td>1.374000</td>\n",
       "      <td>0.00000</td>\n",
       "      <td>0.109900</td>\n",
       "      <td>0.034400</td>\n",
       "    </tr>\n",
       "    <tr>\n",
       "      <th>25%</th>\n",
       "      <td>54.990000</td>\n",
       "      <td>32.994000</td>\n",
       "      <td>125.964000</td>\n",
       "      <td>0.00000</td>\n",
       "      <td>10.077100</td>\n",
       "      <td>3.149100</td>\n",
       "    </tr>\n",
       "    <tr>\n",
       "      <th>50%</th>\n",
       "      <td>337.220000</td>\n",
       "      <td>202.332000</td>\n",
       "      <td>445.410000</td>\n",
       "      <td>0.00000</td>\n",
       "      <td>35.632800</td>\n",
       "      <td>11.135300</td>\n",
       "    </tr>\n",
       "    <tr>\n",
       "      <th>75%</th>\n",
       "      <td>1079.990000</td>\n",
       "      <td>647.994000</td>\n",
       "      <td>1457.820000</td>\n",
       "      <td>0.00000</td>\n",
       "      <td>116.625600</td>\n",
       "      <td>36.445500</td>\n",
       "    </tr>\n",
       "    <tr>\n",
       "      <th>max</th>\n",
       "      <td>3578.270000</td>\n",
       "      <td>2146.962000</td>\n",
       "      <td>27893.619000</td>\n",
       "      <td>4005.23760</td>\n",
       "      <td>2231.489500</td>\n",
       "      <td>697.340500</td>\n",
       "    </tr>\n",
       "  </tbody>\n",
       "</table>\n",
       "</div>"
      ],
      "text/plain": [
       "          ListPrice     UnitPrice   SalesAmount  DiscountAmount     TaxAmount  \\\n",
       "count  32032.000000  32040.000000  32040.000000     32040.00000  32040.000000   \n",
       "mean     714.663419    424.122103   1299.023131         8.15285    103.921849   \n",
       "std      851.623778    506.799303   2153.316625        78.40708    172.265331   \n",
       "min        2.290000      1.328200      1.374000         0.00000      0.109900   \n",
       "25%       54.990000     32.994000    125.964000         0.00000     10.077100   \n",
       "50%      337.220000    202.332000    445.410000         0.00000     35.632800   \n",
       "75%     1079.990000    647.994000   1457.820000         0.00000    116.625600   \n",
       "max     3578.270000   2146.962000  27893.619000      4005.23760   2231.489500   \n",
       "\n",
       "            Freight  \n",
       "count  32040.000000  \n",
       "mean      32.475594  \n",
       "std       53.832916  \n",
       "min        0.034400  \n",
       "25%        3.149100  \n",
       "50%       11.135300  \n",
       "75%       36.445500  \n",
       "max      697.340500  "
      ]
     },
     "execution_count": 18,
     "metadata": {},
     "output_type": "execute_result"
    }
   ],
   "source": [
    "df.describe()"
   ]
  },
  {
   "cell_type": "code",
   "execution_count": 19,
   "id": "591e353e-5555-40ea-950e-70f676b48e7f",
   "metadata": {},
   "outputs": [
    {
     "data": {
      "text/plain": [
       "2967"
      ]
     },
     "execution_count": 19,
     "metadata": {},
     "output_type": "execute_result"
    }
   ],
   "source": [
    "# Checked for the null values in the 'color' data\n",
    "df[\"Color\"].isnull().sum()"
   ]
  },
  {
   "cell_type": "code",
   "execution_count": 20,
   "id": "829cfd65-98e5-4d48-9ae4-b9f8a7f6dd9e",
   "metadata": {},
   "outputs": [
    {
     "data": {
      "text/plain": [
       "32040"
      ]
     },
     "execution_count": 20,
     "metadata": {},
     "output_type": "execute_result"
    }
   ],
   "source": [
    "df.shape[0]"
   ]
  },
  {
   "cell_type": "code",
   "execution_count": 21,
   "id": "48a2b938-aa69-4529-b1f2-7dd960d3578b",
   "metadata": {},
   "outputs": [
    {
     "data": {
      "text/plain": [
       "9.260299625468164"
      ]
     },
     "execution_count": 21,
     "metadata": {},
     "output_type": "execute_result"
    }
   ],
   "source": [
    "df[\"Color\"].isnull().sum() / df.shape[0] * 100"
   ]
  },
  {
   "cell_type": "code",
   "execution_count": 22,
   "id": "1cb3a6bd-acfc-40dc-84c0-9106077a2e35",
   "metadata": {},
   "outputs": [
    {
     "data": {
      "text/html": [
       "<div>\n",
       "<style scoped>\n",
       "    .dataframe tbody tr th:only-of-type {\n",
       "        vertical-align: middle;\n",
       "    }\n",
       "\n",
       "    .dataframe tbody tr th {\n",
       "        vertical-align: top;\n",
       "    }\n",
       "\n",
       "    .dataframe thead th {\n",
       "        text-align: right;\n",
       "    }\n",
       "</style>\n",
       "<table border=\"1\" class=\"dataframe\">\n",
       "  <thead>\n",
       "    <tr style=\"text-align: right;\">\n",
       "      <th></th>\n",
       "      <th>OrderNumber</th>\n",
       "      <th>ProductName</th>\n",
       "      <th>Color</th>\n",
       "      <th>Category</th>\n",
       "      <th>Subcategory</th>\n",
       "      <th>ListPrice</th>\n",
       "      <th>Orderdate</th>\n",
       "      <th>Duedate</th>\n",
       "      <th>Shipdate</th>\n",
       "      <th>PromotionName</th>\n",
       "      <th>SalesRegion</th>\n",
       "      <th>OrderQuantity</th>\n",
       "      <th>UnitPrice</th>\n",
       "      <th>SalesAmount</th>\n",
       "      <th>DiscountAmount</th>\n",
       "      <th>TaxAmount</th>\n",
       "      <th>Freight</th>\n",
       "    </tr>\n",
       "  </thead>\n",
       "  <tbody>\n",
       "    <tr>\n",
       "      <th>3786</th>\n",
       "      <td>SO46929</td>\n",
       "      <td>LL Mountain Handlebars</td>\n",
       "      <td>NaN</td>\n",
       "      <td>Components</td>\n",
       "      <td>Handlebars</td>\n",
       "      <td>40.4909</td>\n",
       "      <td>1/29/2012</td>\n",
       "      <td>2/10/2012</td>\n",
       "      <td>2/5/2012</td>\n",
       "      <td>No Discount</td>\n",
       "      <td>Canada</td>\n",
       "      <td>1</td>\n",
       "      <td>24.2945</td>\n",
       "      <td>24.2945</td>\n",
       "      <td>0.0</td>\n",
       "      <td>1.9436</td>\n",
       "      <td>0.6074</td>\n",
       "    </tr>\n",
       "    <tr>\n",
       "      <th>3802</th>\n",
       "      <td>SO46930</td>\n",
       "      <td>ML Mountain Handlebars</td>\n",
       "      <td>NaN</td>\n",
       "      <td>Components</td>\n",
       "      <td>Handlebars</td>\n",
       "      <td>56.2909</td>\n",
       "      <td>1/29/2012</td>\n",
       "      <td>2/10/2012</td>\n",
       "      <td>2/5/2012</td>\n",
       "      <td>No Discount</td>\n",
       "      <td>Canada</td>\n",
       "      <td>1</td>\n",
       "      <td>33.7745</td>\n",
       "      <td>33.7745</td>\n",
       "      <td>0.0</td>\n",
       "      <td>2.7020</td>\n",
       "      <td>0.8444</td>\n",
       "    </tr>\n",
       "    <tr>\n",
       "      <th>3809</th>\n",
       "      <td>SO46931</td>\n",
       "      <td>HL Headset</td>\n",
       "      <td>NaN</td>\n",
       "      <td>Components</td>\n",
       "      <td>Headsets</td>\n",
       "      <td>124.7300</td>\n",
       "      <td>1/29/2012</td>\n",
       "      <td>2/10/2012</td>\n",
       "      <td>2/5/2012</td>\n",
       "      <td>No Discount</td>\n",
       "      <td>Central</td>\n",
       "      <td>1</td>\n",
       "      <td>74.8380</td>\n",
       "      <td>74.8380</td>\n",
       "      <td>0.0</td>\n",
       "      <td>5.9870</td>\n",
       "      <td>1.8710</td>\n",
       "    </tr>\n",
       "    <tr>\n",
       "      <th>3810</th>\n",
       "      <td>SO46931</td>\n",
       "      <td>HL Fork</td>\n",
       "      <td>NaN</td>\n",
       "      <td>Components</td>\n",
       "      <td>Forks</td>\n",
       "      <td>229.4900</td>\n",
       "      <td>1/29/2012</td>\n",
       "      <td>2/10/2012</td>\n",
       "      <td>2/5/2012</td>\n",
       "      <td>No Discount</td>\n",
       "      <td>Central</td>\n",
       "      <td>2</td>\n",
       "      <td>137.6940</td>\n",
       "      <td>275.3880</td>\n",
       "      <td>0.0</td>\n",
       "      <td>22.0310</td>\n",
       "      <td>6.8847</td>\n",
       "    </tr>\n",
       "    <tr>\n",
       "      <th>3815</th>\n",
       "      <td>SO46931</td>\n",
       "      <td>LL Fork</td>\n",
       "      <td>NaN</td>\n",
       "      <td>Components</td>\n",
       "      <td>Forks</td>\n",
       "      <td>148.2200</td>\n",
       "      <td>1/29/2012</td>\n",
       "      <td>2/10/2012</td>\n",
       "      <td>2/5/2012</td>\n",
       "      <td>No Discount</td>\n",
       "      <td>Central</td>\n",
       "      <td>2</td>\n",
       "      <td>88.9320</td>\n",
       "      <td>177.8640</td>\n",
       "      <td>0.0</td>\n",
       "      <td>14.2291</td>\n",
       "      <td>4.4466</td>\n",
       "    </tr>\n",
       "    <tr>\n",
       "      <th>...</th>\n",
       "      <td>...</td>\n",
       "      <td>...</td>\n",
       "      <td>...</td>\n",
       "      <td>...</td>\n",
       "      <td>...</td>\n",
       "      <td>...</td>\n",
       "      <td>...</td>\n",
       "      <td>...</td>\n",
       "      <td>...</td>\n",
       "      <td>...</td>\n",
       "      <td>...</td>\n",
       "      <td>...</td>\n",
       "      <td>...</td>\n",
       "      <td>...</td>\n",
       "      <td>...</td>\n",
       "      <td>...</td>\n",
       "      <td>...</td>\n",
       "    </tr>\n",
       "    <tr>\n",
       "      <th>31957</th>\n",
       "      <td>SO61258</td>\n",
       "      <td>Bike Wash - Dissolver</td>\n",
       "      <td>NaN</td>\n",
       "      <td>Accessories</td>\n",
       "      <td>Cleaners</td>\n",
       "      <td>7.9500</td>\n",
       "      <td>6/30/2013</td>\n",
       "      <td>7/12/2013</td>\n",
       "      <td>7/7/2013</td>\n",
       "      <td>No Discount</td>\n",
       "      <td>France</td>\n",
       "      <td>4</td>\n",
       "      <td>4.7700</td>\n",
       "      <td>19.0800</td>\n",
       "      <td>0.0</td>\n",
       "      <td>1.5264</td>\n",
       "      <td>0.4770</td>\n",
       "    </tr>\n",
       "    <tr>\n",
       "      <th>31963</th>\n",
       "      <td>SO61263</td>\n",
       "      <td>Bike Wash - Dissolver</td>\n",
       "      <td>NaN</td>\n",
       "      <td>Accessories</td>\n",
       "      <td>Cleaners</td>\n",
       "      <td>7.9500</td>\n",
       "      <td>6/30/2013</td>\n",
       "      <td>7/12/2013</td>\n",
       "      <td>7/7/2013</td>\n",
       "      <td>No Discount</td>\n",
       "      <td>Germany</td>\n",
       "      <td>2</td>\n",
       "      <td>4.7700</td>\n",
       "      <td>9.5400</td>\n",
       "      <td>0.0</td>\n",
       "      <td>0.7632</td>\n",
       "      <td>0.2385</td>\n",
       "    </tr>\n",
       "    <tr>\n",
       "      <th>31968</th>\n",
       "      <td>SO61263</td>\n",
       "      <td>Water Bottle - 30 oz.</td>\n",
       "      <td>NaN</td>\n",
       "      <td>Accessories</td>\n",
       "      <td>Bottles and Cages</td>\n",
       "      <td>4.9900</td>\n",
       "      <td>6/30/2013</td>\n",
       "      <td>7/12/2013</td>\n",
       "      <td>7/7/2013</td>\n",
       "      <td>No Discount</td>\n",
       "      <td>Germany</td>\n",
       "      <td>3</td>\n",
       "      <td>2.9940</td>\n",
       "      <td>8.9820</td>\n",
       "      <td>0.0</td>\n",
       "      <td>0.7186</td>\n",
       "      <td>0.2246</td>\n",
       "    </tr>\n",
       "    <tr>\n",
       "      <th>31991</th>\n",
       "      <td>SO61263</td>\n",
       "      <td>Hitch Rack - 4-Bike</td>\n",
       "      <td>NaN</td>\n",
       "      <td>Accessories</td>\n",
       "      <td>Bike Racks</td>\n",
       "      <td>120.0000</td>\n",
       "      <td>6/30/2013</td>\n",
       "      <td>7/12/2013</td>\n",
       "      <td>7/7/2013</td>\n",
       "      <td>No Discount</td>\n",
       "      <td>Germany</td>\n",
       "      <td>8</td>\n",
       "      <td>72.0000</td>\n",
       "      <td>576.0000</td>\n",
       "      <td>0.0</td>\n",
       "      <td>46.0800</td>\n",
       "      <td>14.4000</td>\n",
       "    </tr>\n",
       "    <tr>\n",
       "      <th>32033</th>\n",
       "      <td>SO61267</td>\n",
       "      <td>HL Touring Seat/Saddle</td>\n",
       "      <td>NaN</td>\n",
       "      <td>Components</td>\n",
       "      <td>Saddles</td>\n",
       "      <td>52.6400</td>\n",
       "      <td>6/30/2013</td>\n",
       "      <td>7/12/2013</td>\n",
       "      <td>7/7/2013</td>\n",
       "      <td>No Discount</td>\n",
       "      <td>Northwest</td>\n",
       "      <td>2</td>\n",
       "      <td>31.5840</td>\n",
       "      <td>63.1680</td>\n",
       "      <td>0.0</td>\n",
       "      <td>5.0534</td>\n",
       "      <td>1.5792</td>\n",
       "    </tr>\n",
       "  </tbody>\n",
       "</table>\n",
       "<p>2967 rows × 17 columns</p>\n",
       "</div>"
      ],
      "text/plain": [
       "      OrderNumber             ProductName Color     Category  \\\n",
       "3786      SO46929  LL Mountain Handlebars   NaN   Components   \n",
       "3802      SO46930  ML Mountain Handlebars   NaN   Components   \n",
       "3809      SO46931              HL Headset   NaN   Components   \n",
       "3810      SO46931                 HL Fork   NaN   Components   \n",
       "3815      SO46931                 LL Fork   NaN   Components   \n",
       "...           ...                     ...   ...          ...   \n",
       "31957     SO61258   Bike Wash - Dissolver   NaN  Accessories   \n",
       "31963     SO61263   Bike Wash - Dissolver   NaN  Accessories   \n",
       "31968     SO61263   Water Bottle - 30 oz.   NaN  Accessories   \n",
       "31991     SO61263     Hitch Rack - 4-Bike   NaN  Accessories   \n",
       "32033     SO61267  HL Touring Seat/Saddle   NaN   Components   \n",
       "\n",
       "             Subcategory  ListPrice  Orderdate    Duedate  Shipdate  \\\n",
       "3786          Handlebars    40.4909  1/29/2012  2/10/2012  2/5/2012   \n",
       "3802          Handlebars    56.2909  1/29/2012  2/10/2012  2/5/2012   \n",
       "3809            Headsets   124.7300  1/29/2012  2/10/2012  2/5/2012   \n",
       "3810               Forks   229.4900  1/29/2012  2/10/2012  2/5/2012   \n",
       "3815               Forks   148.2200  1/29/2012  2/10/2012  2/5/2012   \n",
       "...                  ...        ...        ...        ...       ...   \n",
       "31957           Cleaners     7.9500  6/30/2013  7/12/2013  7/7/2013   \n",
       "31963           Cleaners     7.9500  6/30/2013  7/12/2013  7/7/2013   \n",
       "31968  Bottles and Cages     4.9900  6/30/2013  7/12/2013  7/7/2013   \n",
       "31991         Bike Racks   120.0000  6/30/2013  7/12/2013  7/7/2013   \n",
       "32033            Saddles    52.6400  6/30/2013  7/12/2013  7/7/2013   \n",
       "\n",
       "      PromotionName SalesRegion OrderQuantity  UnitPrice  SalesAmount  \\\n",
       "3786    No Discount      Canada             1    24.2945      24.2945   \n",
       "3802    No Discount      Canada             1    33.7745      33.7745   \n",
       "3809    No Discount     Central             1    74.8380      74.8380   \n",
       "3810    No Discount     Central             2   137.6940     275.3880   \n",
       "3815    No Discount     Central             2    88.9320     177.8640   \n",
       "...             ...         ...           ...        ...          ...   \n",
       "31957   No Discount      France             4     4.7700      19.0800   \n",
       "31963   No Discount     Germany             2     4.7700       9.5400   \n",
       "31968   No Discount     Germany             3     2.9940       8.9820   \n",
       "31991   No Discount     Germany             8    72.0000     576.0000   \n",
       "32033   No Discount   Northwest             2    31.5840      63.1680   \n",
       "\n",
       "       DiscountAmount  TaxAmount  Freight  \n",
       "3786              0.0     1.9436   0.6074  \n",
       "3802              0.0     2.7020   0.8444  \n",
       "3809              0.0     5.9870   1.8710  \n",
       "3810              0.0    22.0310   6.8847  \n",
       "3815              0.0    14.2291   4.4466  \n",
       "...               ...        ...      ...  \n",
       "31957             0.0     1.5264   0.4770  \n",
       "31963             0.0     0.7632   0.2385  \n",
       "31968             0.0     0.7186   0.2246  \n",
       "31991             0.0    46.0800  14.4000  \n",
       "32033             0.0     5.0534   1.5792  \n",
       "\n",
       "[2967 rows x 17 columns]"
      ]
     },
     "execution_count": 22,
     "metadata": {},
     "output_type": "execute_result"
    }
   ],
   "source": [
    "record_with_missing_color = df[df[\"Color\"].isnull()]\n",
    "record_with_missing_color"
   ]
  },
  {
   "cell_type": "code",
   "execution_count": 23,
   "id": "db077353-a792-4390-b443-e0e941bf247e",
   "metadata": {},
   "outputs": [],
   "source": [
    "record_with_missing_color.to_csv(\"missing_colors.csv\")"
   ]
  },
  {
   "cell_type": "code",
   "execution_count": 24,
   "id": "53a364ff-c768-4863-920b-e4b01a277a20",
   "metadata": {},
   "outputs": [
    {
     "data": {
      "text/plain": [
       "<bound method Series.unique of 0        Silver\n",
       "1         Black\n",
       "2        Silver\n",
       "3         Black\n",
       "4        Silver\n",
       "          ...  \n",
       "32035      Blue\n",
       "32036      Blue\n",
       "32037      Blue\n",
       "32038      Blue\n",
       "32039    Yellow\n",
       "Name: Color, Length: 32040, dtype: object>"
      ]
     },
     "execution_count": 24,
     "metadata": {},
     "output_type": "execute_result"
    }
   ],
   "source": [
    "df[\"Color\"].unique"
   ]
  },
  {
   "cell_type": "code",
   "execution_count": 25,
   "id": "07e54659-8167-4b7b-a505-e1468205deb3",
   "metadata": {},
   "outputs": [],
   "source": [
    "# df.drop(columns=[\"Color\"], inplace=True)\n",
    "\n",
    "df.dropna(subset=\"Color\", inplace=True)"
   ]
  },
  {
   "cell_type": "code",
   "execution_count": 26,
   "id": "3964a32b-7851-4eb3-b146-ece8912f1523",
   "metadata": {},
   "outputs": [
    {
     "data": {
      "text/plain": [
       "OrderNumber        0\n",
       "ProductName        0\n",
       "Color              0\n",
       "Category           0\n",
       "Subcategory        0\n",
       "ListPrice          5\n",
       "Orderdate          0\n",
       "Duedate            0\n",
       "Shipdate           0\n",
       "PromotionName      0\n",
       "SalesRegion       15\n",
       "OrderQuantity     14\n",
       "UnitPrice          0\n",
       "SalesAmount        0\n",
       "DiscountAmount     0\n",
       "TaxAmount          0\n",
       "Freight            0\n",
       "dtype: int64"
      ]
     },
     "execution_count": 26,
     "metadata": {},
     "output_type": "execute_result"
    }
   ],
   "source": [
    "df.isnull().sum()"
   ]
  },
  {
   "cell_type": "code",
   "execution_count": 27,
   "id": "4fd24ef5-f86e-4906-9c6b-69280ede0920",
   "metadata": {},
   "outputs": [
    {
     "data": {
      "text/html": [
       "<div>\n",
       "<style scoped>\n",
       "    .dataframe tbody tr th:only-of-type {\n",
       "        vertical-align: middle;\n",
       "    }\n",
       "\n",
       "    .dataframe tbody tr th {\n",
       "        vertical-align: top;\n",
       "    }\n",
       "\n",
       "    .dataframe thead th {\n",
       "        text-align: right;\n",
       "    }\n",
       "</style>\n",
       "<table border=\"1\" class=\"dataframe\">\n",
       "  <thead>\n",
       "    <tr style=\"text-align: right;\">\n",
       "      <th></th>\n",
       "      <th>OrderNumber</th>\n",
       "      <th>ProductName</th>\n",
       "      <th>Color</th>\n",
       "      <th>Category</th>\n",
       "      <th>Subcategory</th>\n",
       "      <th>ListPrice</th>\n",
       "      <th>Orderdate</th>\n",
       "      <th>Duedate</th>\n",
       "      <th>Shipdate</th>\n",
       "      <th>PromotionName</th>\n",
       "      <th>SalesRegion</th>\n",
       "      <th>OrderQuantity</th>\n",
       "      <th>UnitPrice</th>\n",
       "      <th>SalesAmount</th>\n",
       "      <th>DiscountAmount</th>\n",
       "      <th>TaxAmount</th>\n",
       "      <th>Freight</th>\n",
       "    </tr>\n",
       "  </thead>\n",
       "  <tbody>\n",
       "    <tr>\n",
       "      <th>10</th>\n",
       "      <td>SO43844</td>\n",
       "      <td>Mountain-100 Black, 38</td>\n",
       "      <td>Black</td>\n",
       "      <td>Bikes</td>\n",
       "      <td>Mountain Bikes</td>\n",
       "      <td>3374.9900</td>\n",
       "      <td>1/29/2011</td>\n",
       "      <td>2/10/2011</td>\n",
       "      <td>2/5/2011</td>\n",
       "      <td>No Discount</td>\n",
       "      <td>NaN</td>\n",
       "      <td>4</td>\n",
       "      <td>2024.9940</td>\n",
       "      <td>8099.9760</td>\n",
       "      <td>0.0</td>\n",
       "      <td>647.9981</td>\n",
       "      <td>202.4994</td>\n",
       "    </tr>\n",
       "    <tr>\n",
       "      <th>11</th>\n",
       "      <td>SO43844</td>\n",
       "      <td>Mountain-100 Black, 42</td>\n",
       "      <td>Black</td>\n",
       "      <td>Bikes</td>\n",
       "      <td>Mountain Bikes</td>\n",
       "      <td>3374.9900</td>\n",
       "      <td>1/29/2011</td>\n",
       "      <td>2/10/2011</td>\n",
       "      <td>2/5/2011</td>\n",
       "      <td>No Discount</td>\n",
       "      <td>NaN</td>\n",
       "      <td>2</td>\n",
       "      <td>2024.9940</td>\n",
       "      <td>4049.9880</td>\n",
       "      <td>0.0</td>\n",
       "      <td>323.9990</td>\n",
       "      <td>101.2497</td>\n",
       "    </tr>\n",
       "    <tr>\n",
       "      <th>12</th>\n",
       "      <td>SO43844</td>\n",
       "      <td>Mountain-100 Black, 44</td>\n",
       "      <td>Black</td>\n",
       "      <td>Bikes</td>\n",
       "      <td>Mountain Bikes</td>\n",
       "      <td>3374.9900</td>\n",
       "      <td>1/29/2011</td>\n",
       "      <td>2/10/2011</td>\n",
       "      <td>2/5/2011</td>\n",
       "      <td>No Discount</td>\n",
       "      <td>NaN</td>\n",
       "      <td>3</td>\n",
       "      <td>2024.9940</td>\n",
       "      <td>6074.9820</td>\n",
       "      <td>0.0</td>\n",
       "      <td>485.9986</td>\n",
       "      <td>151.8746</td>\n",
       "    </tr>\n",
       "    <tr>\n",
       "      <th>13</th>\n",
       "      <td>SO43844</td>\n",
       "      <td>Mountain-100 Black, 48</td>\n",
       "      <td>Black</td>\n",
       "      <td>Bikes</td>\n",
       "      <td>Mountain Bikes</td>\n",
       "      <td>3374.9900</td>\n",
       "      <td>1/29/2011</td>\n",
       "      <td>2/10/2011</td>\n",
       "      <td>2/5/2011</td>\n",
       "      <td>No Discount</td>\n",
       "      <td>NaN</td>\n",
       "      <td>1</td>\n",
       "      <td>2024.9940</td>\n",
       "      <td>2024.9940</td>\n",
       "      <td>0.0</td>\n",
       "      <td>161.9995</td>\n",
       "      <td>50.6249</td>\n",
       "    </tr>\n",
       "    <tr>\n",
       "      <th>14445</th>\n",
       "      <td>SO48732</td>\n",
       "      <td>Men's Sports Shorts, M</td>\n",
       "      <td>Black</td>\n",
       "      <td>Clothing</td>\n",
       "      <td>Shorts</td>\n",
       "      <td>59.9900</td>\n",
       "      <td>6/30/2012</td>\n",
       "      <td>7/12/2012</td>\n",
       "      <td>7/7/2012</td>\n",
       "      <td>No Discount</td>\n",
       "      <td>NaN</td>\n",
       "      <td>1</td>\n",
       "      <td>35.9940</td>\n",
       "      <td>35.9940</td>\n",
       "      <td>0.0</td>\n",
       "      <td>2.8795</td>\n",
       "      <td>0.8999</td>\n",
       "    </tr>\n",
       "    <tr>\n",
       "      <th>14446</th>\n",
       "      <td>SO48732</td>\n",
       "      <td>ML Road Frame-W - Yellow, 44</td>\n",
       "      <td>Yellow</td>\n",
       "      <td>Components</td>\n",
       "      <td>Road Frames</td>\n",
       "      <td>540.7545</td>\n",
       "      <td>6/30/2012</td>\n",
       "      <td>7/12/2012</td>\n",
       "      <td>7/7/2012</td>\n",
       "      <td>No Discount</td>\n",
       "      <td>NaN</td>\n",
       "      <td>1</td>\n",
       "      <td>324.4527</td>\n",
       "      <td>324.4527</td>\n",
       "      <td>0.0</td>\n",
       "      <td>25.9562</td>\n",
       "      <td>8.1113</td>\n",
       "    </tr>\n",
       "    <tr>\n",
       "      <th>14447</th>\n",
       "      <td>SO48732</td>\n",
       "      <td>Men's Bib-Shorts, M</td>\n",
       "      <td>Multi</td>\n",
       "      <td>Clothing</td>\n",
       "      <td>Bib-Shorts</td>\n",
       "      <td>89.9900</td>\n",
       "      <td>6/30/2012</td>\n",
       "      <td>7/12/2012</td>\n",
       "      <td>7/7/2012</td>\n",
       "      <td>No Discount</td>\n",
       "      <td>NaN</td>\n",
       "      <td>1</td>\n",
       "      <td>53.9940</td>\n",
       "      <td>53.9940</td>\n",
       "      <td>0.0</td>\n",
       "      <td>4.3195</td>\n",
       "      <td>1.3499</td>\n",
       "    </tr>\n",
       "    <tr>\n",
       "      <th>14632</th>\n",
       "      <td>SO48748</td>\n",
       "      <td>Mountain-200 Black, 38</td>\n",
       "      <td>Black</td>\n",
       "      <td>Bikes</td>\n",
       "      <td>Mountain Bikes</td>\n",
       "      <td>2049.0982</td>\n",
       "      <td>6/30/2012</td>\n",
       "      <td>7/12/2012</td>\n",
       "      <td>7/7/2012</td>\n",
       "      <td>No Discount</td>\n",
       "      <td>NaN</td>\n",
       "      <td>1</td>\n",
       "      <td>1229.4589</td>\n",
       "      <td>1229.4589</td>\n",
       "      <td>0.0</td>\n",
       "      <td>98.3567</td>\n",
       "      <td>30.7365</td>\n",
       "    </tr>\n",
       "    <tr>\n",
       "      <th>14633</th>\n",
       "      <td>SO48748</td>\n",
       "      <td>Full-Finger Gloves, M</td>\n",
       "      <td>Black</td>\n",
       "      <td>Clothing</td>\n",
       "      <td>Gloves</td>\n",
       "      <td>37.9900</td>\n",
       "      <td>6/30/2012</td>\n",
       "      <td>7/12/2012</td>\n",
       "      <td>7/7/2012</td>\n",
       "      <td>No Discount</td>\n",
       "      <td>NaN</td>\n",
       "      <td>4</td>\n",
       "      <td>22.7940</td>\n",
       "      <td>91.1760</td>\n",
       "      <td>0.0</td>\n",
       "      <td>7.2941</td>\n",
       "      <td>2.2794</td>\n",
       "    </tr>\n",
       "    <tr>\n",
       "      <th>14634</th>\n",
       "      <td>SO48748</td>\n",
       "      <td>Full-Finger Gloves, L</td>\n",
       "      <td>Black</td>\n",
       "      <td>Clothing</td>\n",
       "      <td>Gloves</td>\n",
       "      <td>37.9900</td>\n",
       "      <td>6/30/2012</td>\n",
       "      <td>7/12/2012</td>\n",
       "      <td>7/7/2012</td>\n",
       "      <td>No Discount</td>\n",
       "      <td>NaN</td>\n",
       "      <td>8</td>\n",
       "      <td>22.7940</td>\n",
       "      <td>182.3520</td>\n",
       "      <td>0.0</td>\n",
       "      <td>14.5882</td>\n",
       "      <td>4.5588</td>\n",
       "    </tr>\n",
       "    <tr>\n",
       "      <th>14635</th>\n",
       "      <td>SO48748</td>\n",
       "      <td>Full-Finger Gloves, S</td>\n",
       "      <td>Black</td>\n",
       "      <td>Clothing</td>\n",
       "      <td>Gloves</td>\n",
       "      <td>37.9900</td>\n",
       "      <td>6/30/2012</td>\n",
       "      <td>7/12/2012</td>\n",
       "      <td>7/7/2012</td>\n",
       "      <td>No Discount</td>\n",
       "      <td>NaN</td>\n",
       "      <td>2</td>\n",
       "      <td>22.7940</td>\n",
       "      <td>45.5880</td>\n",
       "      <td>0.0</td>\n",
       "      <td>3.6470</td>\n",
       "      <td>1.1397</td>\n",
       "    </tr>\n",
       "    <tr>\n",
       "      <th>15362</th>\n",
       "      <td>SO48790</td>\n",
       "      <td>Road-650 Red, 48</td>\n",
       "      <td>Red</td>\n",
       "      <td>Bikes</td>\n",
       "      <td>Road Bikes</td>\n",
       "      <td>782.9900</td>\n",
       "      <td>6/30/2012</td>\n",
       "      <td>7/12/2012</td>\n",
       "      <td>7/7/2012</td>\n",
       "      <td>No Discount</td>\n",
       "      <td>NaN</td>\n",
       "      <td>2</td>\n",
       "      <td>469.7940</td>\n",
       "      <td>939.5880</td>\n",
       "      <td>0.0</td>\n",
       "      <td>75.1670</td>\n",
       "      <td>23.4897</td>\n",
       "    </tr>\n",
       "    <tr>\n",
       "      <th>15363</th>\n",
       "      <td>SO48790</td>\n",
       "      <td>Sport-100 Helmet, Black</td>\n",
       "      <td>Black</td>\n",
       "      <td>Accessories</td>\n",
       "      <td>Helmets</td>\n",
       "      <td>33.6442</td>\n",
       "      <td>6/30/2012</td>\n",
       "      <td>7/12/2012</td>\n",
       "      <td>7/7/2012</td>\n",
       "      <td>No Discount</td>\n",
       "      <td>NaN</td>\n",
       "      <td>1</td>\n",
       "      <td>20.1865</td>\n",
       "      <td>20.1865</td>\n",
       "      <td>0.0</td>\n",
       "      <td>1.6149</td>\n",
       "      <td>0.5047</td>\n",
       "    </tr>\n",
       "    <tr>\n",
       "      <th>15364</th>\n",
       "      <td>SO48790</td>\n",
       "      <td>Road-650 Red, 44</td>\n",
       "      <td>Red</td>\n",
       "      <td>Bikes</td>\n",
       "      <td>Road Bikes</td>\n",
       "      <td>782.9900</td>\n",
       "      <td>6/30/2012</td>\n",
       "      <td>7/12/2012</td>\n",
       "      <td>7/7/2012</td>\n",
       "      <td>No Discount</td>\n",
       "      <td>NaN</td>\n",
       "      <td>2</td>\n",
       "      <td>469.7940</td>\n",
       "      <td>939.5880</td>\n",
       "      <td>0.0</td>\n",
       "      <td>75.1670</td>\n",
       "      <td>23.4897</td>\n",
       "    </tr>\n",
       "    <tr>\n",
       "      <th>19076</th>\n",
       "      <td>SO51863</td>\n",
       "      <td>Mountain-400-W Silver, 40</td>\n",
       "      <td>Silver</td>\n",
       "      <td>Bikes</td>\n",
       "      <td>Mountain Bikes</td>\n",
       "      <td>769.4900</td>\n",
       "      <td>1/28/2013</td>\n",
       "      <td>2/9/2013</td>\n",
       "      <td>2/4/2013</td>\n",
       "      <td>No Discount</td>\n",
       "      <td>NaN</td>\n",
       "      <td>1</td>\n",
       "      <td>461.6940</td>\n",
       "      <td>461.6940</td>\n",
       "      <td>0.0</td>\n",
       "      <td>36.9355</td>\n",
       "      <td>11.5424</td>\n",
       "    </tr>\n",
       "  </tbody>\n",
       "</table>\n",
       "</div>"
      ],
      "text/plain": [
       "      OrderNumber                   ProductName   Color     Category  \\\n",
       "10        SO43844        Mountain-100 Black, 38   Black        Bikes   \n",
       "11        SO43844        Mountain-100 Black, 42   Black        Bikes   \n",
       "12        SO43844        Mountain-100 Black, 44   Black        Bikes   \n",
       "13        SO43844        Mountain-100 Black, 48   Black        Bikes   \n",
       "14445     SO48732        Men's Sports Shorts, M   Black     Clothing   \n",
       "14446     SO48732  ML Road Frame-W - Yellow, 44  Yellow   Components   \n",
       "14447     SO48732           Men's Bib-Shorts, M   Multi     Clothing   \n",
       "14632     SO48748        Mountain-200 Black, 38   Black        Bikes   \n",
       "14633     SO48748         Full-Finger Gloves, M   Black     Clothing   \n",
       "14634     SO48748         Full-Finger Gloves, L   Black     Clothing   \n",
       "14635     SO48748         Full-Finger Gloves, S   Black     Clothing   \n",
       "15362     SO48790              Road-650 Red, 48     Red        Bikes   \n",
       "15363     SO48790       Sport-100 Helmet, Black   Black  Accessories   \n",
       "15364     SO48790              Road-650 Red, 44     Red        Bikes   \n",
       "19076     SO51863     Mountain-400-W Silver, 40  Silver        Bikes   \n",
       "\n",
       "          Subcategory  ListPrice  Orderdate    Duedate  Shipdate  \\\n",
       "10     Mountain Bikes  3374.9900  1/29/2011  2/10/2011  2/5/2011   \n",
       "11     Mountain Bikes  3374.9900  1/29/2011  2/10/2011  2/5/2011   \n",
       "12     Mountain Bikes  3374.9900  1/29/2011  2/10/2011  2/5/2011   \n",
       "13     Mountain Bikes  3374.9900  1/29/2011  2/10/2011  2/5/2011   \n",
       "14445          Shorts    59.9900  6/30/2012  7/12/2012  7/7/2012   \n",
       "14446     Road Frames   540.7545  6/30/2012  7/12/2012  7/7/2012   \n",
       "14447      Bib-Shorts    89.9900  6/30/2012  7/12/2012  7/7/2012   \n",
       "14632  Mountain Bikes  2049.0982  6/30/2012  7/12/2012  7/7/2012   \n",
       "14633          Gloves    37.9900  6/30/2012  7/12/2012  7/7/2012   \n",
       "14634          Gloves    37.9900  6/30/2012  7/12/2012  7/7/2012   \n",
       "14635          Gloves    37.9900  6/30/2012  7/12/2012  7/7/2012   \n",
       "15362      Road Bikes   782.9900  6/30/2012  7/12/2012  7/7/2012   \n",
       "15363         Helmets    33.6442  6/30/2012  7/12/2012  7/7/2012   \n",
       "15364      Road Bikes   782.9900  6/30/2012  7/12/2012  7/7/2012   \n",
       "19076  Mountain Bikes   769.4900  1/28/2013   2/9/2013  2/4/2013   \n",
       "\n",
       "      PromotionName SalesRegion OrderQuantity  UnitPrice  SalesAmount  \\\n",
       "10      No Discount         NaN             4  2024.9940    8099.9760   \n",
       "11      No Discount         NaN             2  2024.9940    4049.9880   \n",
       "12      No Discount         NaN             3  2024.9940    6074.9820   \n",
       "13      No Discount         NaN             1  2024.9940    2024.9940   \n",
       "14445   No Discount         NaN             1    35.9940      35.9940   \n",
       "14446   No Discount         NaN             1   324.4527     324.4527   \n",
       "14447   No Discount         NaN             1    53.9940      53.9940   \n",
       "14632   No Discount         NaN             1  1229.4589    1229.4589   \n",
       "14633   No Discount         NaN             4    22.7940      91.1760   \n",
       "14634   No Discount         NaN             8    22.7940     182.3520   \n",
       "14635   No Discount         NaN             2    22.7940      45.5880   \n",
       "15362   No Discount         NaN             2   469.7940     939.5880   \n",
       "15363   No Discount         NaN             1    20.1865      20.1865   \n",
       "15364   No Discount         NaN             2   469.7940     939.5880   \n",
       "19076   No Discount         NaN             1   461.6940     461.6940   \n",
       "\n",
       "       DiscountAmount  TaxAmount   Freight  \n",
       "10                0.0   647.9981  202.4994  \n",
       "11                0.0   323.9990  101.2497  \n",
       "12                0.0   485.9986  151.8746  \n",
       "13                0.0   161.9995   50.6249  \n",
       "14445             0.0     2.8795    0.8999  \n",
       "14446             0.0    25.9562    8.1113  \n",
       "14447             0.0     4.3195    1.3499  \n",
       "14632             0.0    98.3567   30.7365  \n",
       "14633             0.0     7.2941    2.2794  \n",
       "14634             0.0    14.5882    4.5588  \n",
       "14635             0.0     3.6470    1.1397  \n",
       "15362             0.0    75.1670   23.4897  \n",
       "15363             0.0     1.6149    0.5047  \n",
       "15364             0.0    75.1670   23.4897  \n",
       "19076             0.0    36.9355   11.5424  "
      ]
     },
     "execution_count": 27,
     "metadata": {},
     "output_type": "execute_result"
    }
   ],
   "source": [
    "record_with_missing_SalesRegion = df[df[\"SalesRegion\"].isnull()]\n",
    "record_with_missing_SalesRegion"
   ]
  },
  {
   "cell_type": "code",
   "execution_count": 28,
   "id": "d5b83bcc-0e38-4335-9d0d-705a8c4c55af",
   "metadata": {},
   "outputs": [
    {
     "data": {
      "text/plain": [
       "15"
      ]
     },
     "execution_count": 28,
     "metadata": {},
     "output_type": "execute_result"
    }
   ],
   "source": [
    "df[\"SalesRegion\"].isnull().sum()"
   ]
  },
  {
   "cell_type": "code",
   "execution_count": 72,
   "id": "07df17bb-66aa-41a8-866e-908f870dd30d",
   "metadata": {},
   "outputs": [],
   "source": [
    "# Save the missing_SalesRegion\n",
    "record_with_missing_SalesRegion.to_csv(\"SalesRegion\")"
   ]
  },
  {
   "cell_type": "code",
   "execution_count": 30,
   "id": "654325da-c490-41ba-8c89-509b4d4caf56",
   "metadata": {},
   "outputs": [],
   "source": [
    "df.dropna(subset=[\"SalesRegion\"], inplace=True)"
   ]
  },
  {
   "cell_type": "code",
   "execution_count": 73,
   "id": "e45e37ab-7ab6-4f02-84a1-f80040db0e3e",
   "metadata": {},
   "outputs": [
    {
     "data": {
      "text/plain": [
       "OrderNumber        0\n",
       "ProductName        0\n",
       "Color              0\n",
       "Category           0\n",
       "Subcategory        0\n",
       "ListPrice          5\n",
       "Orderdate          0\n",
       "Duedate            0\n",
       "Shipdate           0\n",
       "PromotionName      0\n",
       "SalesRegion        0\n",
       "OrderQuantity      0\n",
       "UnitPrice          0\n",
       "SalesAmount        0\n",
       "DiscountAmount     0\n",
       "TaxAmount          0\n",
       "Freight            0\n",
       "orderdate_year     0\n",
       "orderdate_month    0\n",
       "orderdate_day      0\n",
       "dtype: int64"
      ]
     },
     "execution_count": 73,
     "metadata": {},
     "output_type": "execute_result"
    }
   ],
   "source": [
    "df.isnull().sum()"
   ]
  },
  {
   "cell_type": "code",
   "execution_count": 90,
   "id": "d6e7c8c6-e3d8-4db9-9bbe-72198c13f0f9",
   "metadata": {},
   "outputs": [
    {
     "data": {
      "text/plain": [
       "array([None], dtype=object)"
      ]
     },
     "execution_count": 90,
     "metadata": {},
     "output_type": "execute_result"
    }
   ],
   "source": [
    "df[\"OrderQuantity\"].unique()"
   ]
  },
  {
   "cell_type": "code",
   "execution_count": 86,
   "id": "bcd4cac3-8e58-400e-b8ec-46d8fd59500c",
   "metadata": {},
   "outputs": [],
   "source": [
    "df[\"OrderQuantity\"] = df[\"OrderQuantity\"].replace(\"Nan\",np.nan, inplace=True)"
   ]
  },
  {
   "cell_type": "code",
   "execution_count": 88,
   "id": "8c344520-2ed8-4bef-827d-f3f87e41ce5a",
   "metadata": {},
   "outputs": [
    {
     "data": {
      "text/plain": [
       "0        None\n",
       "1        None\n",
       "2        None\n",
       "3        None\n",
       "4        None\n",
       "         ... \n",
       "32035    None\n",
       "32036    None\n",
       "32037    None\n",
       "32038    None\n",
       "32039    None\n",
       "Name: OrderQuantity, Length: 29058, dtype: object"
      ]
     },
     "execution_count": 88,
     "metadata": {},
     "output_type": "execute_result"
    }
   ],
   "source": [
    "df[\"OrderQuantity\"]"
   ]
  },
  {
   "cell_type": "code",
   "execution_count": 89,
   "id": "ac26da32-0f39-4a31-a7ff-6a5d7dc7bf8e",
   "metadata": {},
   "outputs": [
    {
     "data": {
      "text/plain": [
       "array([None], dtype=object)"
      ]
     },
     "execution_count": 89,
     "metadata": {},
     "output_type": "execute_result"
    }
   ],
   "source": [
    "df[\"OrderQuantity\"].unique()"
   ]
  },
  {
   "cell_type": "code",
   "execution_count": 34,
   "id": "e212d569-a50e-4007-a15a-2bfeaf2a548c",
   "metadata": {},
   "outputs": [
    {
     "data": {
      "text/plain": [
       "array(['2', '5', '1', nan, '3', '4', '9', '6', '7', '12', '13', '8', '21',\n",
       "       '10', '14', '11', '26', '22', '23', '18', '16', '15', '24', '17',\n",
       "       '20', '19', '32', '29', '34', '27', '28', '25', '33', '39', '31',\n",
       "       '36', '40', '30'], dtype=object)"
      ]
     },
     "execution_count": 34,
     "metadata": {},
     "output_type": "execute_result"
    }
   ],
   "source": [
    "df[\"OrderQuantity\"].unique()"
   ]
  },
  {
   "cell_type": "code",
   "execution_count": 85,
   "id": "9e59abb5-d2dd-4396-b2a1-f02a55312215",
   "metadata": {},
   "outputs": [
    {
     "name": "stderr",
     "output_type": "stream",
     "text": [
      "C:\\Users\\hp\\AppData\\Local\\Temp\\ipykernel_13152\\107277201.py:1: FutureWarning: Downcasting object dtype arrays on .fillna, .ffill, .bfill is deprecated and will change in a future version. Call result.infer_objects(copy=False) instead. To opt-in to the future behavior, set `pd.set_option('future.no_silent_downcasting', True)`\n",
      "  df[\"OrderQuantity\"].fillna(0, inplace=True)\n"
     ]
    }
   ],
   "source": [
    "df[\"OrderQuantity\"].fillna(0, inplace=True)"
   ]
  },
  {
   "cell_type": "code",
   "execution_count": 36,
   "id": "677ddb1a-25e5-463d-a1d1-d3dadf1037c5",
   "metadata": {},
   "outputs": [],
   "source": [
    "df[\"OrderQuantity\"] = df[\"OrderQuantity\"].astype(\"int32\") "
   ]
  },
  {
   "cell_type": "code",
   "execution_count": 37,
   "id": "b7a51d8d-480d-4f0b-b307-d4919462edf1",
   "metadata": {},
   "outputs": [
    {
     "data": {
      "text/plain": [
       "4.0"
      ]
     },
     "execution_count": 37,
     "metadata": {},
     "output_type": "execute_result"
    }
   ],
   "source": [
    "avg_OrderQuantity = round(df[\"OrderQuantity\"].mean(), 0)\n",
    "avg_OrderQuantity"
   ]
  },
  {
   "cell_type": "code",
   "execution_count": 38,
   "id": "b00c6267-6718-45d8-be90-969407163f99",
   "metadata": {},
   "outputs": [
    {
     "data": {
      "text/plain": [
       "0"
      ]
     },
     "execution_count": 38,
     "metadata": {},
     "output_type": "execute_result"
    }
   ],
   "source": [
    "df[\"OrderQuantity\"].isnull().sum()"
   ]
  },
  {
   "cell_type": "code",
   "execution_count": 39,
   "id": "12398805-821d-4928-82e4-047e80d0a85d",
   "metadata": {},
   "outputs": [
    {
     "name": "stdout",
     "output_type": "stream",
     "text": [
      "25th percentile: 159.558\n",
      "75th percentile: 1677.8356\n"
     ]
    }
   ],
   "source": [
    "Q1 = np.percentile(df[\"SalesAmount\"], 25)\n",
    "Q3 = np.percentile(df[\"SalesAmount\"], 75)\n",
    "\n",
    "print(f\"25th percentile: {Q1}\")\n",
    "print(f\"75th percentile: {Q3}\")"
   ]
  },
  {
   "cell_type": "code",
   "execution_count": 40,
   "id": "2dda362f-6d6b-43e3-8e48-04889eb1c800",
   "metadata": {},
   "outputs": [
    {
     "name": "stdout",
     "output_type": "stream",
     "text": [
      "IQR: 1518.2776000000001\n"
     ]
    }
   ],
   "source": [
    "IQR = Q3 - Q1\n",
    "\n",
    "print(F\"IQR: {IQR}\")"
   ]
  },
  {
   "cell_type": "code",
   "execution_count": 41,
   "id": "72a451cb-cf79-4fb7-a3b4-955fa237bee4",
   "metadata": {},
   "outputs": [
    {
     "name": "stdout",
     "output_type": "stream",
     "text": [
      "min bound: -2117.8584\n",
      "max bound: 2436.9744\n"
     ]
    }
   ],
   "source": [
    "min_bound = Q1 - (1.5*IQR)\n",
    "max_bound = Q1 + (1.5*IQR)\n",
    "\n",
    "print(f\"min bound: {min_bound}\")\n",
    "print(f\"max bound: {max_bound}\")"
   ]
  },
  {
   "cell_type": "code",
   "execution_count": 42,
   "id": "5c78b3c7-6b29-439d-b68b-5d07d84cc3c3",
   "metadata": {},
   "outputs": [
    {
     "data": {
      "image/png": "[encoded data removed]",
      "text/plain": [
       "<Figure size 640x480 with 1 Axes>"
      ]
     },
     "metadata": {},
     "output_type": "display_data"
    }
   ],
   "source": [
    "sns.boxplot(data=df, x=\"SalesAmount\")\n",
    "plt.title(\"SalesaAmount distribution\")\n",
    "plt.xlabel(\"SalesAmount\")\n",
    "plt.show()"
   ]
  },
  {
   "cell_type": "code",
   "execution_count": 43,
   "id": "6993fdbe-76f9-451b-80cf-f06eede147c1",
   "metadata": {},
   "outputs": [
    {
     "data": {
      "text/html": [
       "<div>\n",
       "<style scoped>\n",
       "    .dataframe tbody tr th:only-of-type {\n",
       "        vertical-align: middle;\n",
       "    }\n",
       "\n",
       "    .dataframe tbody tr th {\n",
       "        vertical-align: top;\n",
       "    }\n",
       "\n",
       "    .dataframe thead th {\n",
       "        text-align: right;\n",
       "    }\n",
       "</style>\n",
       "<table border=\"1\" class=\"dataframe\">\n",
       "  <thead>\n",
       "    <tr style=\"text-align: right;\">\n",
       "      <th></th>\n",
       "      <th>ListPrice</th>\n",
       "      <th>OrderQuantity</th>\n",
       "      <th>UnitPrice</th>\n",
       "      <th>SalesAmount</th>\n",
       "      <th>DiscountAmount</th>\n",
       "      <th>TaxAmount</th>\n",
       "      <th>Freight</th>\n",
       "    </tr>\n",
       "  </thead>\n",
       "  <tbody>\n",
       "    <tr>\n",
       "      <th>count</th>\n",
       "      <td>29053.000000</td>\n",
       "      <td>29058.000000</td>\n",
       "      <td>29058.000000</td>\n",
       "      <td>29058.000000</td>\n",
       "      <td>29058.000000</td>\n",
       "      <td>29058.000000</td>\n",
       "      <td>29058.000000</td>\n",
       "    </tr>\n",
       "    <tr>\n",
       "      <th>mean</th>\n",
       "      <td>780.990913</td>\n",
       "      <td>3.608989</td>\n",
       "      <td>463.480356</td>\n",
       "      <td>1418.141554</td>\n",
       "      <td>8.922339</td>\n",
       "      <td>113.451322</td>\n",
       "      <td>35.453556</td>\n",
       "    </tr>\n",
       "    <tr>\n",
       "      <th>std</th>\n",
       "      <td>866.240935</td>\n",
       "      <td>3.113479</td>\n",
       "      <td>515.613658</td>\n",
       "      <td>2225.471917</td>\n",
       "      <td>82.266380</td>\n",
       "      <td>178.037754</td>\n",
       "      <td>55.636798</td>\n",
       "    </tr>\n",
       "    <tr>\n",
       "      <th>min</th>\n",
       "      <td>8.644200</td>\n",
       "      <td>0.000000</td>\n",
       "      <td>4.322100</td>\n",
       "      <td>5.186500</td>\n",
       "      <td>0.000000</td>\n",
       "      <td>0.414900</td>\n",
       "      <td>0.129700</td>\n",
       "    </tr>\n",
       "    <tr>\n",
       "      <th>25%</th>\n",
       "      <td>63.500000</td>\n",
       "      <td>2.000000</td>\n",
       "      <td>38.100000</td>\n",
       "      <td>159.558000</td>\n",
       "      <td>0.000000</td>\n",
       "      <td>12.764600</td>\n",
       "      <td>3.989000</td>\n",
       "    </tr>\n",
       "    <tr>\n",
       "      <th>50%</th>\n",
       "      <td>539.990000</td>\n",
       "      <td>3.000000</td>\n",
       "      <td>323.994000</td>\n",
       "      <td>594.108000</td>\n",
       "      <td>0.000000</td>\n",
       "      <td>47.528600</td>\n",
       "      <td>14.852700</td>\n",
       "    </tr>\n",
       "    <tr>\n",
       "      <th>75%</th>\n",
       "      <td>1120.490000</td>\n",
       "      <td>4.000000</td>\n",
       "      <td>672.294000</td>\n",
       "      <td>1677.835600</td>\n",
       "      <td>0.000000</td>\n",
       "      <td>134.226800</td>\n",
       "      <td>41.945900</td>\n",
       "    </tr>\n",
       "    <tr>\n",
       "      <th>max</th>\n",
       "      <td>3578.270000</td>\n",
       "      <td>40.000000</td>\n",
       "      <td>2146.962000</td>\n",
       "      <td>27893.619000</td>\n",
       "      <td>4005.237600</td>\n",
       "      <td>2231.489500</td>\n",
       "      <td>697.340500</td>\n",
       "    </tr>\n",
       "  </tbody>\n",
       "</table>\n",
       "</div>"
      ],
      "text/plain": [
       "          ListPrice  OrderQuantity     UnitPrice   SalesAmount  \\\n",
       "count  29053.000000   29058.000000  29058.000000  29058.000000   \n",
       "mean     780.990913       3.608989    463.480356   1418.141554   \n",
       "std      866.240935       3.113479    515.613658   2225.471917   \n",
       "min        8.644200       0.000000      4.322100      5.186500   \n",
       "25%       63.500000       2.000000     38.100000    159.558000   \n",
       "50%      539.990000       3.000000    323.994000    594.108000   \n",
       "75%     1120.490000       4.000000    672.294000   1677.835600   \n",
       "max     3578.270000      40.000000   2146.962000  27893.619000   \n",
       "\n",
       "       DiscountAmount     TaxAmount       Freight  \n",
       "count    29058.000000  29058.000000  29058.000000  \n",
       "mean         8.922339    113.451322     35.453556  \n",
       "std         82.266380    178.037754     55.636798  \n",
       "min          0.000000      0.414900      0.129700  \n",
       "25%          0.000000     12.764600      3.989000  \n",
       "50%          0.000000     47.528600     14.852700  \n",
       "75%          0.000000    134.226800     41.945900  \n",
       "max       4005.237600   2231.489500    697.340500  "
      ]
     },
     "execution_count": 43,
     "metadata": {},
     "output_type": "execute_result"
    }
   ],
   "source": [
    "df.describe()"
   ]
  },
  {
   "cell_type": "code",
   "execution_count": 44,
   "id": "6d0d77ba-a10a-44be-bb32-0ec2ed538237",
   "metadata": {},
   "outputs": [
    {
     "name": "stdout",
     "output_type": "stream",
     "text": [
      "25th percentile: 0.0\n",
      "75th percentile: 0.0\n"
     ]
    }
   ],
   "source": [
    "Q1 = np.percentile(df[\"DiscountAmount\"], 25)\n",
    "Q3 = np.percentile(df[\"DiscountAmount\"], 75)\n",
    "\n",
    "print(f\"25th percentile: {Q1}\")\n",
    "print(f\"75th percentile: {Q3}\")"
   ]
  },
  {
   "cell_type": "code",
   "execution_count": 45,
   "id": "83a6e9d3-4cb5-4f10-9955-5bc7096f4267",
   "metadata": {},
   "outputs": [
    {
     "name": "stdout",
     "output_type": "stream",
     "text": [
      "IQR: 0.0\n"
     ]
    }
   ],
   "source": [
    "IQR = Q3 - Q1\n",
    "\n",
    "print(f\"IQR: {IQR}\")"
   ]
  },
  {
   "cell_type": "code",
   "execution_count": 46,
   "id": "df8aa67b-ba5a-4b54-aa7c-47f67ee6298d",
   "metadata": {},
   "outputs": [
    {
     "name": "stdout",
     "output_type": "stream",
     "text": [
      "min bound: 0.0\n",
      "max bound: 0.0\n"
     ]
    }
   ],
   "source": [
    "min_bound = Q1 - (1.5*IQR)\n",
    "max_bound = Q1 + (1.5*IQR)\n",
    "\n",
    "print(f\"min bound: {min_bound}\")\n",
    "print(f\"max bound: {max_bound}\")"
   ]
  },
  {
   "cell_type": "code",
   "execution_count": 47,
   "id": "968d2cf9-6bdf-470a-bd7f-431a6c99bdba",
   "metadata": {},
   "outputs": [
    {
     "data": {
      "image/png": "[encoded data removed]",
      "text/plain": [
       "<Figure size 640x480 with 1 Axes>"
      ]
     },
     "metadata": {},
     "output_type": "display_data"
    }
   ],
   "source": [
    "sns.boxplot(data=df, x=\"DiscountAmount\")\n",
    "plt.title(\"DiscountAmount distribution\")\n",
    "plt.xlabel(\"DiscountAmount\")\n",
    "plt.show()"
   ]
  },
  {
   "cell_type": "code",
   "execution_count": 48,
   "id": "59081139-f030-42e9-bf56-128bae4341c1",
   "metadata": {},
   "outputs": [
    {
     "name": "stdout",
     "output_type": "stream",
     "text": [
      "25th percentile: 12.7646\n",
      "75th percentile: 134.2268\n"
     ]
    }
   ],
   "source": [
    "Q1 = np.percentile(df[\"TaxAmount\"], 25)\n",
    "Q3 = np.percentile(df[\"TaxAmount\"], 75)\n",
    "\n",
    "print(f\"25th percentile: {Q1}\")\n",
    "print(f\"75th percentile: {Q3}\")"
   ]
  },
  {
   "cell_type": "code",
   "execution_count": 49,
   "id": "ebb3b87d-faba-4470-bcd6-d4ec344a46d4",
   "metadata": {},
   "outputs": [
    {
     "name": "stdout",
     "output_type": "stream",
     "text": [
      "IQR: 121.4622\n"
     ]
    }
   ],
   "source": [
    "IQR = Q3 - Q1\n",
    "\n",
    "print(f\"IQR: {IQR}\")"
   ]
  },
  {
   "cell_type": "code",
   "execution_count": 50,
   "id": "a3c10704-b35c-4a32-ae0e-c59cd4bc93ec",
   "metadata": {},
   "outputs": [
    {
     "name": "stdout",
     "output_type": "stream",
     "text": [
      "min bound: -169.4287\n",
      "max bound: 194.9579\n"
     ]
    }
   ],
   "source": [
    "min_bound = Q1 - (1.5*IQR)\n",
    "max_bound = Q1 + (1.5*IQR)\n",
    "\n",
    "print(f\"min bound: {min_bound}\")\n",
    "print(f\"max bound: {max_bound}\")"
   ]
  },
  {
   "cell_type": "code",
   "execution_count": 51,
   "id": "74d05ac3-71dc-48e5-b09d-e467bed65d36",
   "metadata": {},
   "outputs": [
    {
     "data": {
      "image/png": "[encoded data removed]",
      "text/plain": [
       "<Figure size 640x480 with 1 Axes>"
      ]
     },
     "metadata": {},
     "output_type": "display_data"
    }
   ],
   "source": [
    "sns.boxplot(data=df, x=\"TaxAmount\")\n",
    "plt.title(\"TaxAmount distribution\")\n",
    "plt.xlabel(\"TaxAmount\")\n",
    "plt.show()"
   ]
  },
  {
   "cell_type": "code",
   "execution_count": 52,
   "id": "a98d2920-634f-4d9d-aa4c-de1b9d14f620",
   "metadata": {},
   "outputs": [
    {
     "name": "stdout",
     "output_type": "stream",
     "text": [
      "25th percentile: 3.989\n",
      "75th percentile: 41.9459\n"
     ]
    }
   ],
   "source": [
    "Q1 = np.percentile(df[\"Freight\"], 25)\n",
    "Q3 = np.percentile(df[\"Freight\"], 75)\n",
    "\n",
    "print(f\"25th percentile: {Q1}\")\n",
    "print(f\"75th percentile: {Q3}\")"
   ]
  },
  {
   "cell_type": "code",
   "execution_count": 53,
   "id": "c5de3693-0293-4eaf-bd70-9d75cab49031",
   "metadata": {},
   "outputs": [
    {
     "name": "stdout",
     "output_type": "stream",
     "text": [
      "IQR: 37.956900000000005\n"
     ]
    }
   ],
   "source": [
    "IQR = Q3 - Q1\n",
    "\n",
    "print(f\"IQR: {IQR}\")"
   ]
  },
  {
   "cell_type": "code",
   "execution_count": 54,
   "id": "58bb754d-3321-4ced-8a6b-961690da0baa",
   "metadata": {},
   "outputs": [
    {
     "name": "stdout",
     "output_type": "stream",
     "text": [
      "min_bound: -52.94635000000001\n",
      "max_bound: -52.94635000000001\n"
     ]
    }
   ],
   "source": [
    "min_bound = Q1 - (1.5*IQR)\n",
    "max_bound = Q1 - (1.5*IQR)\n",
    "\n",
    "print(f\"min_bound: {min_bound}\")\n",
    "print(f\"max_bound: {max_bound}\")"
   ]
  },
  {
   "cell_type": "code",
   "execution_count": 55,
   "id": "efd86c53-17e2-483a-9971-e2d10d8b27ec",
   "metadata": {},
   "outputs": [
    {
     "data": {
      "image/png": "[encoded data removed]",
      "text/plain": [
       "<Figure size 640x480 with 1 Axes>"
      ]
     },
     "metadata": {},
     "output_type": "display_data"
    }
   ],
   "source": [
    "sns.boxplot(data=df, x=\"Freight\")\n",
    "plt.title(\"Freight distribution\")\n",
    "plt.xlabel(\"Freight\")\n",
    "plt.show()"
   ]
  },
  {
   "cell_type": "code",
   "execution_count": 56,
   "id": "c2d59b41-6d6d-4623-97a6-e7bf55b23f6e",
   "metadata": {},
   "outputs": [
    {
     "data": {
      "text/html": [
       "<div>\n",
       "<style scoped>\n",
       "    .dataframe tbody tr th:only-of-type {\n",
       "        vertical-align: middle;\n",
       "    }\n",
       "\n",
       "    .dataframe tbody tr th {\n",
       "        vertical-align: top;\n",
       "    }\n",
       "\n",
       "    .dataframe thead th {\n",
       "        text-align: right;\n",
       "    }\n",
       "</style>\n",
       "<table border=\"1\" class=\"dataframe\">\n",
       "  <thead>\n",
       "    <tr style=\"text-align: right;\">\n",
       "      <th></th>\n",
       "      <th>ListPrice</th>\n",
       "      <th>OrderQuantity</th>\n",
       "      <th>UnitPrice</th>\n",
       "      <th>SalesAmount</th>\n",
       "      <th>DiscountAmount</th>\n",
       "      <th>TaxAmount</th>\n",
       "      <th>Freight</th>\n",
       "    </tr>\n",
       "  </thead>\n",
       "  <tbody>\n",
       "    <tr>\n",
       "      <th>count</th>\n",
       "      <td>29053.000000</td>\n",
       "      <td>29058.000000</td>\n",
       "      <td>29058.000000</td>\n",
       "      <td>29058.000000</td>\n",
       "      <td>29058.000000</td>\n",
       "      <td>29058.000000</td>\n",
       "      <td>29058.000000</td>\n",
       "    </tr>\n",
       "    <tr>\n",
       "      <th>mean</th>\n",
       "      <td>780.990913</td>\n",
       "      <td>3.608989</td>\n",
       "      <td>463.480356</td>\n",
       "      <td>1418.141554</td>\n",
       "      <td>8.922339</td>\n",
       "      <td>113.451322</td>\n",
       "      <td>35.453556</td>\n",
       "    </tr>\n",
       "    <tr>\n",
       "      <th>std</th>\n",
       "      <td>866.240935</td>\n",
       "      <td>3.113479</td>\n",
       "      <td>515.613658</td>\n",
       "      <td>2225.471917</td>\n",
       "      <td>82.266380</td>\n",
       "      <td>178.037754</td>\n",
       "      <td>55.636798</td>\n",
       "    </tr>\n",
       "    <tr>\n",
       "      <th>min</th>\n",
       "      <td>8.644200</td>\n",
       "      <td>0.000000</td>\n",
       "      <td>4.322100</td>\n",
       "      <td>5.186500</td>\n",
       "      <td>0.000000</td>\n",
       "      <td>0.414900</td>\n",
       "      <td>0.129700</td>\n",
       "    </tr>\n",
       "    <tr>\n",
       "      <th>25%</th>\n",
       "      <td>63.500000</td>\n",
       "      <td>2.000000</td>\n",
       "      <td>38.100000</td>\n",
       "      <td>159.558000</td>\n",
       "      <td>0.000000</td>\n",
       "      <td>12.764600</td>\n",
       "      <td>3.989000</td>\n",
       "    </tr>\n",
       "    <tr>\n",
       "      <th>50%</th>\n",
       "      <td>539.990000</td>\n",
       "      <td>3.000000</td>\n",
       "      <td>323.994000</td>\n",
       "      <td>594.108000</td>\n",
       "      <td>0.000000</td>\n",
       "      <td>47.528600</td>\n",
       "      <td>14.852700</td>\n",
       "    </tr>\n",
       "    <tr>\n",
       "      <th>75%</th>\n",
       "      <td>1120.490000</td>\n",
       "      <td>4.000000</td>\n",
       "      <td>672.294000</td>\n",
       "      <td>1677.835600</td>\n",
       "      <td>0.000000</td>\n",
       "      <td>134.226800</td>\n",
       "      <td>41.945900</td>\n",
       "    </tr>\n",
       "    <tr>\n",
       "      <th>max</th>\n",
       "      <td>3578.270000</td>\n",
       "      <td>40.000000</td>\n",
       "      <td>2146.962000</td>\n",
       "      <td>27893.619000</td>\n",
       "      <td>4005.237600</td>\n",
       "      <td>2231.489500</td>\n",
       "      <td>697.340500</td>\n",
       "    </tr>\n",
       "  </tbody>\n",
       "</table>\n",
       "</div>"
      ],
      "text/plain": [
       "          ListPrice  OrderQuantity     UnitPrice   SalesAmount  \\\n",
       "count  29053.000000   29058.000000  29058.000000  29058.000000   \n",
       "mean     780.990913       3.608989    463.480356   1418.141554   \n",
       "std      866.240935       3.113479    515.613658   2225.471917   \n",
       "min        8.644200       0.000000      4.322100      5.186500   \n",
       "25%       63.500000       2.000000     38.100000    159.558000   \n",
       "50%      539.990000       3.000000    323.994000    594.108000   \n",
       "75%     1120.490000       4.000000    672.294000   1677.835600   \n",
       "max     3578.270000      40.000000   2146.962000  27893.619000   \n",
       "\n",
       "       DiscountAmount     TaxAmount       Freight  \n",
       "count    29058.000000  29058.000000  29058.000000  \n",
       "mean         8.922339    113.451322     35.453556  \n",
       "std         82.266380    178.037754     55.636798  \n",
       "min          0.000000      0.414900      0.129700  \n",
       "25%          0.000000     12.764600      3.989000  \n",
       "50%          0.000000     47.528600     14.852700  \n",
       "75%          0.000000    134.226800     41.945900  \n",
       "max       4005.237600   2231.489500    697.340500  "
      ]
     },
     "execution_count": 56,
     "metadata": {},
     "output_type": "execute_result"
    }
   ],
   "source": [
    "df.describe()"
   ]
  },
  {
   "cell_type": "code",
   "execution_count": 57,
   "id": "7495950e-85ea-420d-b319-30aa528a3ee3",
   "metadata": {},
   "outputs": [
    {
     "data": {
      "text/plain": [
       "0        1/29/2011\n",
       "1        1/29/2011\n",
       "2        1/29/2011\n",
       "3        1/29/2011\n",
       "4        1/29/2011\n",
       "           ...    \n",
       "32035    6/30/2013\n",
       "32036    6/30/2013\n",
       "32037    6/30/2013\n",
       "32038    6/30/2013\n",
       "32039    6/30/2013\n",
       "Name: Orderdate, Length: 29058, dtype: object"
      ]
     },
     "execution_count": 57,
     "metadata": {},
     "output_type": "execute_result"
    }
   ],
   "source": [
    "df[\"Orderdate\"]"
   ]
  },
  {
   "cell_type": "code",
   "execution_count": 58,
   "id": "eb067f16-4b52-4961-9853-92d3249aa0bc",
   "metadata": {},
   "outputs": [],
   "source": [
    "df[\"Orderdate\"] = pd.to_datetime(df[\"Orderdate\"])"
   ]
  },
  {
   "cell_type": "code",
   "execution_count": 59,
   "id": "35464894-cd07-4d5a-8ec3-92436d14a9c8",
   "metadata": {},
   "outputs": [
    {
     "data": {
      "text/plain": [
       "0       2011-01-29\n",
       "1       2011-01-29\n",
       "2       2011-01-29\n",
       "3       2011-01-29\n",
       "4       2011-01-29\n",
       "           ...    \n",
       "32035   2013-06-30\n",
       "32036   2013-06-30\n",
       "32037   2013-06-30\n",
       "32038   2013-06-30\n",
       "32039   2013-06-30\n",
       "Name: Orderdate, Length: 29058, dtype: datetime64[ns]"
      ]
     },
     "execution_count": 59,
     "metadata": {},
     "output_type": "execute_result"
    }
   ],
   "source": [
    "df[\"Orderdate\"]"
   ]
  },
  {
   "cell_type": "code",
   "execution_count": 60,
   "id": "682fb8bc-3220-48f2-a9c4-2568beb576bb",
   "metadata": {},
   "outputs": [],
   "source": [
    "df[\"orderdate_year\"] = df[\"Orderdate\"].dt.year"
   ]
  },
  {
   "cell_type": "code",
   "execution_count": 61,
   "id": "1944129f-c062-4d80-87a3-2a5b384c7775",
   "metadata": {},
   "outputs": [],
   "source": [
    "df[\"orderdate_month\"] = df[\"Orderdate\"].dt.month"
   ]
  },
  {
   "cell_type": "code",
   "execution_count": 62,
   "id": "3ed13a69-26c7-4698-835a-7d3a3e2cde91",
   "metadata": {},
   "outputs": [],
   "source": [
    "df[\"orderdate_day\"] = df[\"Orderdate\"].dt.day"
   ]
  },
  {
   "cell_type": "code",
   "execution_count": 63,
   "id": "11e7dec7-acc5-4d07-ab4a-3e1f4515b643",
   "metadata": {},
   "outputs": [
    {
     "data": {
      "text/html": [
       "<div>\n",
       "<style scoped>\n",
       "    .dataframe tbody tr th:only-of-type {\n",
       "        vertical-align: middle;\n",
       "    }\n",
       "\n",
       "    .dataframe tbody tr th {\n",
       "        vertical-align: top;\n",
       "    }\n",
       "\n",
       "    .dataframe thead th {\n",
       "        text-align: right;\n",
       "    }\n",
       "</style>\n",
       "<table border=\"1\" class=\"dataframe\">\n",
       "  <thead>\n",
       "    <tr style=\"text-align: right;\">\n",
       "      <th></th>\n",
       "      <th>OrderNumber</th>\n",
       "      <th>ProductName</th>\n",
       "      <th>Color</th>\n",
       "      <th>Category</th>\n",
       "      <th>Subcategory</th>\n",
       "      <th>ListPrice</th>\n",
       "      <th>Orderdate</th>\n",
       "      <th>Duedate</th>\n",
       "      <th>Shipdate</th>\n",
       "      <th>PromotionName</th>\n",
       "      <th>SalesRegion</th>\n",
       "      <th>OrderQuantity</th>\n",
       "      <th>UnitPrice</th>\n",
       "      <th>SalesAmount</th>\n",
       "      <th>DiscountAmount</th>\n",
       "      <th>TaxAmount</th>\n",
       "      <th>Freight</th>\n",
       "      <th>orderdate_year</th>\n",
       "      <th>orderdate_month</th>\n",
       "      <th>orderdate_day</th>\n",
       "    </tr>\n",
       "  </thead>\n",
       "  <tbody>\n",
       "    <tr>\n",
       "      <th>0</th>\n",
       "      <td>SO43843</td>\n",
       "      <td>Mountain-100 Silver, 48</td>\n",
       "      <td>Silver</td>\n",
       "      <td>Bikes</td>\n",
       "      <td>Mountain Bikes</td>\n",
       "      <td>3399.9900</td>\n",
       "      <td>2011-01-29</td>\n",
       "      <td>2/10/2011</td>\n",
       "      <td>2/5/2011</td>\n",
       "      <td>No Discount</td>\n",
       "      <td>Central</td>\n",
       "      <td>2</td>\n",
       "      <td>2039.9940</td>\n",
       "      <td>4079.9880</td>\n",
       "      <td>0.0</td>\n",
       "      <td>326.3990</td>\n",
       "      <td>101.9997</td>\n",
       "      <td>2011</td>\n",
       "      <td>1</td>\n",
       "      <td>29</td>\n",
       "    </tr>\n",
       "    <tr>\n",
       "      <th>1</th>\n",
       "      <td>SO43843</td>\n",
       "      <td>Mountain-100 Black, 48</td>\n",
       "      <td>Black</td>\n",
       "      <td>Bikes</td>\n",
       "      <td>Mountain Bikes</td>\n",
       "      <td>3374.9900</td>\n",
       "      <td>2011-01-29</td>\n",
       "      <td>2/10/2011</td>\n",
       "      <td>2/5/2011</td>\n",
       "      <td>No Discount</td>\n",
       "      <td>Central</td>\n",
       "      <td>2</td>\n",
       "      <td>2024.9940</td>\n",
       "      <td>4049.9880</td>\n",
       "      <td>0.0</td>\n",
       "      <td>323.9990</td>\n",
       "      <td>101.2497</td>\n",
       "      <td>2011</td>\n",
       "      <td>1</td>\n",
       "      <td>29</td>\n",
       "    </tr>\n",
       "    <tr>\n",
       "      <th>2</th>\n",
       "      <td>SO43843</td>\n",
       "      <td>HL Mountain Frame - Silver, 46</td>\n",
       "      <td>Silver</td>\n",
       "      <td>Components</td>\n",
       "      <td>Mountain Frames</td>\n",
       "      <td>1204.3248</td>\n",
       "      <td>2011-01-29</td>\n",
       "      <td>2/10/2011</td>\n",
       "      <td>2/5/2011</td>\n",
       "      <td>No Discount</td>\n",
       "      <td>Central</td>\n",
       "      <td>2</td>\n",
       "      <td>722.5949</td>\n",
       "      <td>1445.1898</td>\n",
       "      <td>0.0</td>\n",
       "      <td>115.6152</td>\n",
       "      <td>36.1297</td>\n",
       "      <td>2011</td>\n",
       "      <td>1</td>\n",
       "      <td>29</td>\n",
       "    </tr>\n",
       "    <tr>\n",
       "      <th>3</th>\n",
       "      <td>SO43843</td>\n",
       "      <td>Mountain-100 Black, 44</td>\n",
       "      <td>Black</td>\n",
       "      <td>Bikes</td>\n",
       "      <td>Mountain Bikes</td>\n",
       "      <td>NaN</td>\n",
       "      <td>2011-01-29</td>\n",
       "      <td>2/10/2011</td>\n",
       "      <td>2/5/2011</td>\n",
       "      <td>No Discount</td>\n",
       "      <td>Central</td>\n",
       "      <td>5</td>\n",
       "      <td>2024.9940</td>\n",
       "      <td>10124.9700</td>\n",
       "      <td>0.0</td>\n",
       "      <td>809.9976</td>\n",
       "      <td>253.1243</td>\n",
       "      <td>2011</td>\n",
       "      <td>1</td>\n",
       "      <td>29</td>\n",
       "    </tr>\n",
       "    <tr>\n",
       "      <th>4</th>\n",
       "      <td>SO43843</td>\n",
       "      <td>HL Mountain Frame - Silver, 38</td>\n",
       "      <td>Silver</td>\n",
       "      <td>Components</td>\n",
       "      <td>Mountain Frames</td>\n",
       "      <td>1204.3248</td>\n",
       "      <td>2011-01-29</td>\n",
       "      <td>2/10/2011</td>\n",
       "      <td>2/5/2011</td>\n",
       "      <td>No Discount</td>\n",
       "      <td>Central</td>\n",
       "      <td>2</td>\n",
       "      <td>722.5949</td>\n",
       "      <td>1445.1898</td>\n",
       "      <td>0.0</td>\n",
       "      <td>115.6152</td>\n",
       "      <td>36.1297</td>\n",
       "      <td>2011</td>\n",
       "      <td>1</td>\n",
       "      <td>29</td>\n",
       "    </tr>\n",
       "  </tbody>\n",
       "</table>\n",
       "</div>"
      ],
      "text/plain": [
       "  OrderNumber                     ProductName   Color    Category  \\\n",
       "0     SO43843         Mountain-100 Silver, 48  Silver       Bikes   \n",
       "1     SO43843          Mountain-100 Black, 48   Black       Bikes   \n",
       "2     SO43843  HL Mountain Frame - Silver, 46  Silver  Components   \n",
       "3     SO43843          Mountain-100 Black, 44   Black       Bikes   \n",
       "4     SO43843  HL Mountain Frame - Silver, 38  Silver  Components   \n",
       "\n",
       "       Subcategory  ListPrice  Orderdate    Duedate  Shipdate PromotionName  \\\n",
       "0   Mountain Bikes  3399.9900 2011-01-29  2/10/2011  2/5/2011   No Discount   \n",
       "1   Mountain Bikes  3374.9900 2011-01-29  2/10/2011  2/5/2011   No Discount   \n",
       "2  Mountain Frames  1204.3248 2011-01-29  2/10/2011  2/5/2011   No Discount   \n",
       "3   Mountain Bikes        NaN 2011-01-29  2/10/2011  2/5/2011   No Discount   \n",
       "4  Mountain Frames  1204.3248 2011-01-29  2/10/2011  2/5/2011   No Discount   \n",
       "\n",
       "  SalesRegion  OrderQuantity  UnitPrice  SalesAmount  DiscountAmount  \\\n",
       "0     Central              2  2039.9940    4079.9880             0.0   \n",
       "1     Central              2  2024.9940    4049.9880             0.0   \n",
       "2     Central              2   722.5949    1445.1898             0.0   \n",
       "3     Central              5  2024.9940   10124.9700             0.0   \n",
       "4     Central              2   722.5949    1445.1898             0.0   \n",
       "\n",
       "   TaxAmount   Freight  orderdate_year  orderdate_month  orderdate_day  \n",
       "0   326.3990  101.9997            2011                1             29  \n",
       "1   323.9990  101.2497            2011                1             29  \n",
       "2   115.6152   36.1297            2011                1             29  \n",
       "3   809.9976  253.1243            2011                1             29  \n",
       "4   115.6152   36.1297            2011                1             29  "
      ]
     },
     "execution_count": 63,
     "metadata": {},
     "output_type": "execute_result"
    }
   ],
   "source": [
    "df.head()"
   ]
  },
  {
   "cell_type": "code",
   "execution_count": 64,
   "id": "887a66f2-def7-4ad5-be45-612cc7a1d2e8",
   "metadata": {},
   "outputs": [
    {
     "data": {
      "text/html": [
       "<div>\n",
       "<style scoped>\n",
       "    .dataframe tbody tr th:only-of-type {\n",
       "        vertical-align: middle;\n",
       "    }\n",
       "\n",
       "    .dataframe tbody tr th {\n",
       "        vertical-align: top;\n",
       "    }\n",
       "\n",
       "    .dataframe thead th {\n",
       "        text-align: right;\n",
       "    }\n",
       "</style>\n",
       "<table border=\"1\" class=\"dataframe\">\n",
       "  <thead>\n",
       "    <tr style=\"text-align: right;\">\n",
       "      <th></th>\n",
       "      <th>orderdate_year</th>\n",
       "      <th>SalesAmount</th>\n",
       "    </tr>\n",
       "  </thead>\n",
       "  <tbody>\n",
       "    <tr>\n",
       "      <th>0</th>\n",
       "      <td>2011</td>\n",
       "      <td>7.555857e+06</td>\n",
       "    </tr>\n",
       "    <tr>\n",
       "      <th>1</th>\n",
       "      <td>2012</td>\n",
       "      <td>1.469579e+07</td>\n",
       "    </tr>\n",
       "    <tr>\n",
       "      <th>2</th>\n",
       "      <td>2013</td>\n",
       "      <td>1.895671e+07</td>\n",
       "    </tr>\n",
       "  </tbody>\n",
       "</table>\n",
       "</div>"
      ],
      "text/plain": [
       "   orderdate_year   SalesAmount\n",
       "0            2011  7.555857e+06\n",
       "1            2012  1.469579e+07\n",
       "2            2013  1.895671e+07"
      ]
     },
     "execution_count": 64,
     "metadata": {},
     "output_type": "execute_result"
    }
   ],
   "source": [
    "salesamount_by_year = df.groupby(\"orderdate_year\")[\"SalesAmount\"].sum().reset_index()\n",
    "salesamount_by_year"
   ]
  },
  {
   "cell_type": "code",
   "execution_count": 65,
   "id": "ae66d4c8-3680-4f3c-ad03-b1803963a80e",
   "metadata": {},
   "outputs": [
    {
     "data": {
      "image/png": "[encoded data removed]",
      "text/plain": [
       "<Figure size 640x480 with 1 Axes>"
      ]
     },
     "metadata": {},
     "output_type": "display_data"
    }
   ],
   "source": [
    "sns.lineplot(data=salesamount_by_year, x=\"orderdate_year\", y=\"SalesAmount\")\n",
    "plt.title(\"Order by Year\")\n",
    "plt.xticks(rotation=10)\n",
    "plt.xlabel(\"orderdate_year\")\n",
    "plt.show()"
   ]
  },
  {
   "cell_type": "code",
   "execution_count": 66,
   "id": "0b7a8838-5e74-488b-bbce-be6b59c2e0c2",
   "metadata": {},
   "outputs": [
    {
     "data": {
      "text/plain": [
       "0       2011-02-10\n",
       "1       2011-02-10\n",
       "2       2011-02-10\n",
       "3       2011-02-10\n",
       "4       2011-02-10\n",
       "           ...    \n",
       "32035   2013-07-12\n",
       "32036   2013-07-12\n",
       "32037   2013-07-12\n",
       "32038   2013-07-12\n",
       "32039   2013-07-12\n",
       "Name: Duedate, Length: 29058, dtype: datetime64[ns]"
      ]
     },
     "execution_count": 66,
     "metadata": {},
     "output_type": "execute_result"
    }
   ],
   "source": [
    "df[\"Duedate\"] = pd.to_datetime(df[\"Duedate\"])\n",
    "df[\"Duedate\"]"
   ]
  },
  {
   "cell_type": "code",
   "execution_count": 67,
   "id": "5172b4c0-be32-44f5-9bc2-2cc49b6e36c0",
   "metadata": {},
   "outputs": [
    {
     "data": {
      "text/plain": [
       "0       2011-02-05\n",
       "1       2011-02-05\n",
       "2       2011-02-05\n",
       "3       2011-02-05\n",
       "4       2011-02-05\n",
       "           ...    \n",
       "32035   2013-07-07\n",
       "32036   2013-07-07\n",
       "32037   2013-07-07\n",
       "32038   2013-07-07\n",
       "32039   2013-07-07\n",
       "Name: Shipdate, Length: 29058, dtype: datetime64[ns]"
      ]
     },
     "execution_count": 67,
     "metadata": {},
     "output_type": "execute_result"
    }
   ],
   "source": [
    "df[\"Shipdate\"] = pd.to_datetime(df[\"Shipdate\"])\n",
    "df[\"Shipdate\"]"
   ]
  },
  {
   "cell_type": "code",
   "execution_count": 68,
   "id": "7c9fd30c-46d6-4200-a775-5f7795914194",
   "metadata": {},
   "outputs": [
    {
     "data": {
      "image/png": "[encoded data removed]",
      "text/plain": [
       "<Figure size 640x480 with 1 Axes>"
      ]
     },
     "metadata": {},
     "output_type": "display_data"
    }
   ],
   "source": [
    "sns.kdeplot(data=df, x=\"SalesAmount\")\n",
    "plt.title(\"SalesAmount distribution\")\n",
    "plt.xlabel(\"SalesAmount\")\n",
    "plt.show()"
   ]
  },
  {
   "cell_type": "code",
   "execution_count": 69,
   "id": "853b2d6a-e8cc-4e3f-83fb-3c9c191df978",
   "metadata": {},
   "outputs": [
    {
     "data": {
      "image/png": "[encoded data removed]",
      "text/plain": [
       "<Figure size 640x480 with 1 Axes>"
      ]
     },
     "metadata": {},
     "output_type": "display_data"
    }
   ],
   "source": [
    "sns.kdeplot(data=df, x=\"DiscountAmount\")\n",
    "plt.title(\"DiscountAmount distribution\")\n",
    "plt.xlabel(\"DiscountAmount\")\n",
    "plt.show()"
   ]
  },
  {
   "cell_type": "code",
   "execution_count": 70,
   "id": "de6176d1-b40b-47da-b7e8-9798fb3f9a71",
   "metadata": {},
   "outputs": [
    {
     "data": {
      "image/png": "[encoded data removed]",
      "text/plain": [
       "<Figure size 640x480 with 1 Axes>"
      ]
     },
     "metadata": {},
     "output_type": "display_data"
    }
   ],
   "source": [
    "sns.kdeplot(data=df, x=\"Freight\")\n",
    "plt.title(\"Freight distribution\")\n",
    "plt.xlabel(\"Freight\")\n",
    "plt.show()"
   ]
  },
  {
   "cell_type": "code",
   "execution_count": null,
   "id": "c4b5c181-181f-4f80-8902-20e69b121f43",
   "metadata": {},
   "outputs": [],
   "source": []
  }
 ],
 "metadata": {
  "kernelspec": {
   "display_name": "Python 3 (ipykernel)",
   "language": "python",
   "name": "python3"
  },
  "language_info": {
   "codemirror_mode": {
    "name": "ipython",
    "version": 3
   },
   "file_extension": ".py",
   "mimetype": "text/x-python",
   "name": "python",
   "nbconvert_exporter": "python",
   "pygments_lexer": "ipython3",
   "version": "3.12.7"
  }
 },
 "nbformat": 4,
 "nbformat_minor": 5
}
